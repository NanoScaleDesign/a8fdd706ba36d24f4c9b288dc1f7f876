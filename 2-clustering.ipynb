{
 "cells": [
  {
   "cell_type": "code",
   "execution_count": 1,
   "metadata": {},
   "outputs": [],
   "source": [
    "import pandas as pd\n",
    "import numpy as np\n",
    "import matplotlib.pyplot as plt"
   ]
  },
  {
   "cell_type": "code",
   "execution_count": 2,
   "metadata": {},
   "outputs": [
    {
     "data": {
      "text/html": [
       "<div>\n",
       "<style scoped>\n",
       "    .dataframe tbody tr th:only-of-type {\n",
       "        vertical-align: middle;\n",
       "    }\n",
       "\n",
       "    .dataframe tbody tr th {\n",
       "        vertical-align: top;\n",
       "    }\n",
       "\n",
       "    .dataframe thead th {\n",
       "        text-align: right;\n",
       "    }\n",
       "</style>\n",
       "<table border=\"1\" class=\"dataframe\">\n",
       "  <thead>\n",
       "    <tr style=\"text-align: right;\">\n",
       "      <th></th>\n",
       "      <th>ID</th>\n",
       "      <th>Query</th>\n",
       "      <th>Time</th>\n",
       "      <th>Rank</th>\n",
       "      <th>URL</th>\n",
       "      <th>Domain</th>\n",
       "      <th>Hour</th>\n",
       "      <th>DidClick</th>\n",
       "    </tr>\n",
       "  </thead>\n",
       "  <tbody>\n",
       "    <tr>\n",
       "      <th>0</th>\n",
       "      <td>479</td>\n",
       "      <td>family guy</td>\n",
       "      <td>2006-03-01 16:01:20</td>\n",
       "      <td>NaN</td>\n",
       "      <td>NaN</td>\n",
       "      <td>NaN</td>\n",
       "      <td>16</td>\n",
       "      <td>False</td>\n",
       "    </tr>\n",
       "    <tr>\n",
       "      <th>1</th>\n",
       "      <td>479</td>\n",
       "      <td>also sprach zarathustra</td>\n",
       "      <td>2006-03-02 14:48:55</td>\n",
       "      <td>NaN</td>\n",
       "      <td>NaN</td>\n",
       "      <td>NaN</td>\n",
       "      <td>14</td>\n",
       "      <td>False</td>\n",
       "    </tr>\n",
       "    <tr>\n",
       "      <th>2</th>\n",
       "      <td>479</td>\n",
       "      <td>family guy movie references</td>\n",
       "      <td>2006-03-03 22:37:46</td>\n",
       "      <td>1.0</td>\n",
       "      <td>http://www.familyguyfiles.com</td>\n",
       "      <td>familyguyfiles</td>\n",
       "      <td>22</td>\n",
       "      <td>True</td>\n",
       "    </tr>\n",
       "    <tr>\n",
       "      <th>3</th>\n",
       "      <td>479</td>\n",
       "      <td>top grossing movies of all time</td>\n",
       "      <td>2006-03-03 22:42:42</td>\n",
       "      <td>1.0</td>\n",
       "      <td>http://movieweb.com</td>\n",
       "      <td>movieweb</td>\n",
       "      <td>22</td>\n",
       "      <td>True</td>\n",
       "    </tr>\n",
       "    <tr>\n",
       "      <th>4</th>\n",
       "      <td>479</td>\n",
       "      <td>top grossing movies of all time</td>\n",
       "      <td>2006-03-03 22:42:42</td>\n",
       "      <td>2.0</td>\n",
       "      <td>http://www.imdb.com</td>\n",
       "      <td>imdb</td>\n",
       "      <td>22</td>\n",
       "      <td>True</td>\n",
       "    </tr>\n",
       "    <tr>\n",
       "      <th>...</th>\n",
       "      <td>...</td>\n",
       "      <td>...</td>\n",
       "      <td>...</td>\n",
       "      <td>...</td>\n",
       "      <td>...</td>\n",
       "      <td>...</td>\n",
       "      <td>...</td>\n",
       "      <td>...</td>\n",
       "    </tr>\n",
       "    <tr>\n",
       "      <th>3614501</th>\n",
       "      <td>24969423</td>\n",
       "      <td>my space. com</td>\n",
       "      <td>2006-05-31 19:03:32</td>\n",
       "      <td>2.0</td>\n",
       "      <td>http://music.myspace.com</td>\n",
       "      <td>myspace</td>\n",
       "      <td>19</td>\n",
       "      <td>True</td>\n",
       "    </tr>\n",
       "    <tr>\n",
       "      <th>3614502</th>\n",
       "      <td>24969423</td>\n",
       "      <td>my space.com</td>\n",
       "      <td>2006-05-31 19:12:00</td>\n",
       "      <td>NaN</td>\n",
       "      <td>NaN</td>\n",
       "      <td>NaN</td>\n",
       "      <td>19</td>\n",
       "      <td>False</td>\n",
       "    </tr>\n",
       "    <tr>\n",
       "      <th>3614503</th>\n",
       "      <td>24969423</td>\n",
       "      <td>my space.com 3131560415</td>\n",
       "      <td>2006-05-31 19:12:25</td>\n",
       "      <td>NaN</td>\n",
       "      <td>NaN</td>\n",
       "      <td>NaN</td>\n",
       "      <td>19</td>\n",
       "      <td>False</td>\n",
       "    </tr>\n",
       "    <tr>\n",
       "      <th>3614504</th>\n",
       "      <td>24969423</td>\n",
       "      <td>jennifer craford my space.com</td>\n",
       "      <td>2006-05-31 19:15:02</td>\n",
       "      <td>NaN</td>\n",
       "      <td>NaN</td>\n",
       "      <td>NaN</td>\n",
       "      <td>19</td>\n",
       "      <td>False</td>\n",
       "    </tr>\n",
       "    <tr>\n",
       "      <th>3614505</th>\n",
       "      <td>24969423</td>\n",
       "      <td>jennifer crawford my space.com</td>\n",
       "      <td>2006-05-31 19:16:05</td>\n",
       "      <td>NaN</td>\n",
       "      <td>NaN</td>\n",
       "      <td>NaN</td>\n",
       "      <td>19</td>\n",
       "      <td>False</td>\n",
       "    </tr>\n",
       "  </tbody>\n",
       "</table>\n",
       "<p>3614500 rows × 8 columns</p>\n",
       "</div>"
      ],
      "text/plain": [
       "               ID                            Query                Time  Rank  \\\n",
       "0             479                       family guy 2006-03-01 16:01:20   NaN   \n",
       "1             479          also sprach zarathustra 2006-03-02 14:48:55   NaN   \n",
       "2             479      family guy movie references 2006-03-03 22:37:46   1.0   \n",
       "3             479  top grossing movies of all time 2006-03-03 22:42:42   1.0   \n",
       "4             479  top grossing movies of all time 2006-03-03 22:42:42   2.0   \n",
       "...           ...                              ...                 ...   ...   \n",
       "3614501  24969423                    my space. com 2006-05-31 19:03:32   2.0   \n",
       "3614502  24969423                     my space.com 2006-05-31 19:12:00   NaN   \n",
       "3614503  24969423          my space.com 3131560415 2006-05-31 19:12:25   NaN   \n",
       "3614504  24969423    jennifer craford my space.com 2006-05-31 19:15:02   NaN   \n",
       "3614505  24969423   jennifer crawford my space.com 2006-05-31 19:16:05   NaN   \n",
       "\n",
       "                                   URL          Domain  Hour  DidClick  \n",
       "0                                  NaN             NaN    16     False  \n",
       "1                                  NaN             NaN    14     False  \n",
       "2        http://www.familyguyfiles.com  familyguyfiles    22      True  \n",
       "3                  http://movieweb.com        movieweb    22      True  \n",
       "4                  http://www.imdb.com            imdb    22      True  \n",
       "...                                ...             ...   ...       ...  \n",
       "3614501       http://music.myspace.com         myspace    19      True  \n",
       "3614502                            NaN             NaN    19     False  \n",
       "3614503                            NaN             NaN    19     False  \n",
       "3614504                            NaN             NaN    19     False  \n",
       "3614505                            NaN             NaN    19     False  \n",
       "\n",
       "[3614500 rows x 8 columns]"
      ]
     },
     "execution_count": 2,
     "metadata": {},
     "output_type": "execute_result"
    }
   ],
   "source": [
    "data = pd.read_pickle('data.pkl')\n",
    "data"
   ]
  },
  {
   "cell_type": "markdown",
   "metadata": {},
   "source": [
    "It will be easier to cluster users if data is converted to numerical form."
   ]
  },
  {
   "cell_type": "markdown",
   "metadata": {},
   "source": [
    "For now, only consider users that 'used' the platform, by discarding users who never ever clicked on a result."
   ]
  },
  {
   "cell_type": "code",
   "execution_count": 3,
   "metadata": {},
   "outputs": [
    {
     "data": {
      "text/plain": [
       "52330"
      ]
     },
     "execution_count": 3,
     "metadata": {},
     "output_type": "execute_result"
    }
   ],
   "source": [
    "userids = np.unique(data[pd.notnull(data['URL'])]['ID'])\n",
    "len(userids)"
   ]
  },
  {
   "cell_type": "markdown",
   "metadata": {},
   "source": [
    "With over 50,000 users there are too many to analyse in a reasonable time. Luckily, a representative sample should be reasonable when developing the model. Normally we should do some tests to make sure that the sample is representative of the population, but since we're short on time we're just going to sample randomly for now.\n",
    "\n",
    "If this is a search engine and we're trying to understand how to better serve our users, then we want to give them the best results for a given search. Therefore it would be good to identify what different characteristics users who are successful in their search have, compared to those who are not.\n",
    "\n",
    "Ultimately, a user could be considered \"successful\" if they have a high click ratio. Therefore `DidClick` is a key metric.\n",
    "\n",
    "Are there key characteristics of the users that lead to high click ratio? This would help us understand what we need to do in order to move users from \"less successful\" to \"successful\".\n",
    "\n",
    "We can easily get access to the length of the query and the rank of the click. One could imagine that these will be important for determining whether a search is successful or not. It has already been seen that different sites are visited at different times of the day, suggesting that there is a hour-dependence to the nature of the queries, so it's possible that this helps cluster users. Therefore, `Hour` could be considered. Finally, the `number of queries` that the user makes overall could be indicative of success; more queries either indicates a frequent (happy) user or possibly a frustrated user.\n",
    "\n",
    "Therefore, all these elements will be included in the clustering analysis, with the `DidClick` ratio as the target metric to understand if users can be characterised by their success."
   ]
  },
  {
   "cell_type": "code",
   "execution_count": 4,
   "metadata": {},
   "outputs": [
    {
     "data": {
      "text/html": [
       "<div>\n",
       "<style scoped>\n",
       "    .dataframe tbody tr th:only-of-type {\n",
       "        vertical-align: middle;\n",
       "    }\n",
       "\n",
       "    .dataframe tbody tr th {\n",
       "        vertical-align: top;\n",
       "    }\n",
       "\n",
       "    .dataframe thead th {\n",
       "        text-align: right;\n",
       "    }\n",
       "</style>\n",
       "<table border=\"1\" class=\"dataframe\">\n",
       "  <thead>\n",
       "    <tr style=\"text-align: right;\">\n",
       "      <th></th>\n",
       "      <th>ID</th>\n",
       "      <th>Query</th>\n",
       "      <th>Time</th>\n",
       "      <th>Rank</th>\n",
       "      <th>URL</th>\n",
       "      <th>Domain</th>\n",
       "      <th>Hour</th>\n",
       "      <th>DidClick</th>\n",
       "      <th>Length</th>\n",
       "    </tr>\n",
       "  </thead>\n",
       "  <tbody>\n",
       "    <tr>\n",
       "      <th>0</th>\n",
       "      <td>479</td>\n",
       "      <td>family guy</td>\n",
       "      <td>2006-03-01 16:01:20</td>\n",
       "      <td>NaN</td>\n",
       "      <td>NaN</td>\n",
       "      <td>NaN</td>\n",
       "      <td>16</td>\n",
       "      <td>False</td>\n",
       "      <td>2</td>\n",
       "    </tr>\n",
       "    <tr>\n",
       "      <th>1</th>\n",
       "      <td>479</td>\n",
       "      <td>also sprach zarathustra</td>\n",
       "      <td>2006-03-02 14:48:55</td>\n",
       "      <td>NaN</td>\n",
       "      <td>NaN</td>\n",
       "      <td>NaN</td>\n",
       "      <td>14</td>\n",
       "      <td>False</td>\n",
       "      <td>3</td>\n",
       "    </tr>\n",
       "    <tr>\n",
       "      <th>2</th>\n",
       "      <td>479</td>\n",
       "      <td>family guy movie references</td>\n",
       "      <td>2006-03-03 22:37:46</td>\n",
       "      <td>1.0</td>\n",
       "      <td>http://www.familyguyfiles.com</td>\n",
       "      <td>familyguyfiles</td>\n",
       "      <td>22</td>\n",
       "      <td>True</td>\n",
       "      <td>4</td>\n",
       "    </tr>\n",
       "    <tr>\n",
       "      <th>3</th>\n",
       "      <td>479</td>\n",
       "      <td>top grossing movies of all time</td>\n",
       "      <td>2006-03-03 22:42:42</td>\n",
       "      <td>1.0</td>\n",
       "      <td>http://movieweb.com</td>\n",
       "      <td>movieweb</td>\n",
       "      <td>22</td>\n",
       "      <td>True</td>\n",
       "      <td>6</td>\n",
       "    </tr>\n",
       "    <tr>\n",
       "      <th>4</th>\n",
       "      <td>479</td>\n",
       "      <td>top grossing movies of all time</td>\n",
       "      <td>2006-03-03 22:42:42</td>\n",
       "      <td>2.0</td>\n",
       "      <td>http://www.imdb.com</td>\n",
       "      <td>imdb</td>\n",
       "      <td>22</td>\n",
       "      <td>True</td>\n",
       "      <td>6</td>\n",
       "    </tr>\n",
       "    <tr>\n",
       "      <th>...</th>\n",
       "      <td>...</td>\n",
       "      <td>...</td>\n",
       "      <td>...</td>\n",
       "      <td>...</td>\n",
       "      <td>...</td>\n",
       "      <td>...</td>\n",
       "      <td>...</td>\n",
       "      <td>...</td>\n",
       "      <td>...</td>\n",
       "    </tr>\n",
       "    <tr>\n",
       "      <th>3614501</th>\n",
       "      <td>24969423</td>\n",
       "      <td>my space. com</td>\n",
       "      <td>2006-05-31 19:03:32</td>\n",
       "      <td>2.0</td>\n",
       "      <td>http://music.myspace.com</td>\n",
       "      <td>myspace</td>\n",
       "      <td>19</td>\n",
       "      <td>True</td>\n",
       "      <td>3</td>\n",
       "    </tr>\n",
       "    <tr>\n",
       "      <th>3614502</th>\n",
       "      <td>24969423</td>\n",
       "      <td>my space.com</td>\n",
       "      <td>2006-05-31 19:12:00</td>\n",
       "      <td>NaN</td>\n",
       "      <td>NaN</td>\n",
       "      <td>NaN</td>\n",
       "      <td>19</td>\n",
       "      <td>False</td>\n",
       "      <td>2</td>\n",
       "    </tr>\n",
       "    <tr>\n",
       "      <th>3614503</th>\n",
       "      <td>24969423</td>\n",
       "      <td>my space.com 3131560415</td>\n",
       "      <td>2006-05-31 19:12:25</td>\n",
       "      <td>NaN</td>\n",
       "      <td>NaN</td>\n",
       "      <td>NaN</td>\n",
       "      <td>19</td>\n",
       "      <td>False</td>\n",
       "      <td>3</td>\n",
       "    </tr>\n",
       "    <tr>\n",
       "      <th>3614504</th>\n",
       "      <td>24969423</td>\n",
       "      <td>jennifer craford my space.com</td>\n",
       "      <td>2006-05-31 19:15:02</td>\n",
       "      <td>NaN</td>\n",
       "      <td>NaN</td>\n",
       "      <td>NaN</td>\n",
       "      <td>19</td>\n",
       "      <td>False</td>\n",
       "      <td>4</td>\n",
       "    </tr>\n",
       "    <tr>\n",
       "      <th>3614505</th>\n",
       "      <td>24969423</td>\n",
       "      <td>jennifer crawford my space.com</td>\n",
       "      <td>2006-05-31 19:16:05</td>\n",
       "      <td>NaN</td>\n",
       "      <td>NaN</td>\n",
       "      <td>NaN</td>\n",
       "      <td>19</td>\n",
       "      <td>False</td>\n",
       "      <td>4</td>\n",
       "    </tr>\n",
       "  </tbody>\n",
       "</table>\n",
       "<p>3614500 rows × 9 columns</p>\n",
       "</div>"
      ],
      "text/plain": [
       "               ID                            Query                Time  Rank  \\\n",
       "0             479                       family guy 2006-03-01 16:01:20   NaN   \n",
       "1             479          also sprach zarathustra 2006-03-02 14:48:55   NaN   \n",
       "2             479      family guy movie references 2006-03-03 22:37:46   1.0   \n",
       "3             479  top grossing movies of all time 2006-03-03 22:42:42   1.0   \n",
       "4             479  top grossing movies of all time 2006-03-03 22:42:42   2.0   \n",
       "...           ...                              ...                 ...   ...   \n",
       "3614501  24969423                    my space. com 2006-05-31 19:03:32   2.0   \n",
       "3614502  24969423                     my space.com 2006-05-31 19:12:00   NaN   \n",
       "3614503  24969423          my space.com 3131560415 2006-05-31 19:12:25   NaN   \n",
       "3614504  24969423    jennifer craford my space.com 2006-05-31 19:15:02   NaN   \n",
       "3614505  24969423   jennifer crawford my space.com 2006-05-31 19:16:05   NaN   \n",
       "\n",
       "                                   URL          Domain  Hour  DidClick  Length  \n",
       "0                                  NaN             NaN    16     False       2  \n",
       "1                                  NaN             NaN    14     False       3  \n",
       "2        http://www.familyguyfiles.com  familyguyfiles    22      True       4  \n",
       "3                  http://movieweb.com        movieweb    22      True       6  \n",
       "4                  http://www.imdb.com            imdb    22      True       6  \n",
       "...                                ...             ...   ...       ...     ...  \n",
       "3614501       http://music.myspace.com         myspace    19      True       3  \n",
       "3614502                            NaN             NaN    19     False       2  \n",
       "3614503                            NaN             NaN    19     False       3  \n",
       "3614504                            NaN             NaN    19     False       4  \n",
       "3614505                            NaN             NaN    19     False       4  \n",
       "\n",
       "[3614500 rows x 9 columns]"
      ]
     },
     "execution_count": 4,
     "metadata": {},
     "output_type": "execute_result"
    }
   ],
   "source": [
    "data['Length'] = data['Query'].map(lambda x: len(x.split()))\n",
    "data"
   ]
  },
  {
   "cell_type": "code",
   "execution_count": 5,
   "metadata": {},
   "outputs": [],
   "source": [
    "np.random.seed = 0\n",
    "userids = np.sort(np.random.choice(userids, 1000))"
   ]
  },
  {
   "cell_type": "code",
   "execution_count": 6,
   "metadata": {},
   "outputs": [],
   "source": [
    "nqueries = []\n",
    "avhour = []\n",
    "avdidclick = []\n",
    "avqlength = []\n",
    "avrank = []\n",
    "\n",
    "for id in userids:\n",
    "    data_id = data[data['ID'] == id]\n",
    "    nqueries.append(len(data_id))\n",
    "    avhour.append(data_id['Hour'].mean())\n",
    "    avdidclick.append(data_id['DidClick'].mean())\n",
    "    avqlength.append(data_id['Length'].mean())\n",
    "    avrank.append(data_id['Rank'].mean())"
   ]
  },
  {
   "cell_type": "code",
   "execution_count": 7,
   "metadata": {},
   "outputs": [
    {
     "data": {
      "text/html": [
       "<div>\n",
       "<style scoped>\n",
       "    .dataframe tbody tr th:only-of-type {\n",
       "        vertical-align: middle;\n",
       "    }\n",
       "\n",
       "    .dataframe tbody tr th {\n",
       "        vertical-align: top;\n",
       "    }\n",
       "\n",
       "    .dataframe thead th {\n",
       "        text-align: right;\n",
       "    }\n",
       "</style>\n",
       "<table border=\"1\" class=\"dataframe\">\n",
       "  <thead>\n",
       "    <tr style=\"text-align: right;\">\n",
       "      <th></th>\n",
       "      <th>Queries</th>\n",
       "      <th>Hour</th>\n",
       "      <th>Success</th>\n",
       "      <th>Length</th>\n",
       "      <th>Rank</th>\n",
       "    </tr>\n",
       "  </thead>\n",
       "  <tbody>\n",
       "    <tr>\n",
       "      <th>28495</th>\n",
       "      <td>269</td>\n",
       "      <td>15.386617</td>\n",
       "      <td>0.505576</td>\n",
       "      <td>3.249071</td>\n",
       "      <td>3.852941</td>\n",
       "    </tr>\n",
       "    <tr>\n",
       "      <th>66674</th>\n",
       "      <td>417</td>\n",
       "      <td>17.597122</td>\n",
       "      <td>0.757794</td>\n",
       "      <td>5.371703</td>\n",
       "      <td>10.750000</td>\n",
       "    </tr>\n",
       "    <tr>\n",
       "      <th>88575</th>\n",
       "      <td>322</td>\n",
       "      <td>15.046584</td>\n",
       "      <td>0.583851</td>\n",
       "      <td>2.363354</td>\n",
       "      <td>2.643617</td>\n",
       "    </tr>\n",
       "    <tr>\n",
       "      <th>90662</th>\n",
       "      <td>27</td>\n",
       "      <td>15.333333</td>\n",
       "      <td>0.407407</td>\n",
       "      <td>2.000000</td>\n",
       "      <td>1.181818</td>\n",
       "    </tr>\n",
       "    <tr>\n",
       "      <th>110786</th>\n",
       "      <td>66</td>\n",
       "      <td>17.681818</td>\n",
       "      <td>0.757576</td>\n",
       "      <td>1.090909</td>\n",
       "      <td>1.380000</td>\n",
       "    </tr>\n",
       "    <tr>\n",
       "      <th>...</th>\n",
       "      <td>...</td>\n",
       "      <td>...</td>\n",
       "      <td>...</td>\n",
       "      <td>...</td>\n",
       "      <td>...</td>\n",
       "    </tr>\n",
       "    <tr>\n",
       "      <th>24881102</th>\n",
       "      <td>3</td>\n",
       "      <td>18.000000</td>\n",
       "      <td>0.333333</td>\n",
       "      <td>2.000000</td>\n",
       "      <td>1.000000</td>\n",
       "    </tr>\n",
       "    <tr>\n",
       "      <th>24887358</th>\n",
       "      <td>3</td>\n",
       "      <td>19.333333</td>\n",
       "      <td>0.666667</td>\n",
       "      <td>1.000000</td>\n",
       "      <td>1.000000</td>\n",
       "    </tr>\n",
       "    <tr>\n",
       "      <th>24896608</th>\n",
       "      <td>19</td>\n",
       "      <td>18.052632</td>\n",
       "      <td>0.368421</td>\n",
       "      <td>1.105263</td>\n",
       "      <td>2.285714</td>\n",
       "    </tr>\n",
       "    <tr>\n",
       "      <th>24903847</th>\n",
       "      <td>3</td>\n",
       "      <td>23.000000</td>\n",
       "      <td>0.666667</td>\n",
       "      <td>2.333333</td>\n",
       "      <td>1.000000</td>\n",
       "    </tr>\n",
       "    <tr>\n",
       "      <th>24930733</th>\n",
       "      <td>3</td>\n",
       "      <td>9.000000</td>\n",
       "      <td>0.333333</td>\n",
       "      <td>1.333333</td>\n",
       "      <td>1.000000</td>\n",
       "    </tr>\n",
       "  </tbody>\n",
       "</table>\n",
       "<p>1000 rows × 5 columns</p>\n",
       "</div>"
      ],
      "text/plain": [
       "          Queries       Hour   Success    Length       Rank\n",
       "28495         269  15.386617  0.505576  3.249071   3.852941\n",
       "66674         417  17.597122  0.757794  5.371703  10.750000\n",
       "88575         322  15.046584  0.583851  2.363354   2.643617\n",
       "90662          27  15.333333  0.407407  2.000000   1.181818\n",
       "110786         66  17.681818  0.757576  1.090909   1.380000\n",
       "...           ...        ...       ...       ...        ...\n",
       "24881102        3  18.000000  0.333333  2.000000   1.000000\n",
       "24887358        3  19.333333  0.666667  1.000000   1.000000\n",
       "24896608       19  18.052632  0.368421  1.105263   2.285714\n",
       "24903847        3  23.000000  0.666667  2.333333   1.000000\n",
       "24930733        3   9.000000  0.333333  1.333333   1.000000\n",
       "\n",
       "[1000 rows x 5 columns]"
      ]
     },
     "execution_count": 7,
     "metadata": {},
     "output_type": "execute_result"
    }
   ],
   "source": [
    "data_user = pd.DataFrame({\n",
    "    'Queries': nqueries,\n",
    "    'Hour': avhour,\n",
    "    'Success': avdidclick,\n",
    "    'Length': avqlength,\n",
    "    'Rank': avrank,\n",
    "    },\n",
    "    index = userids\n",
    "    )\n",
    "data_user"
   ]
  },
  {
   "cell_type": "code",
   "execution_count": 8,
   "metadata": {},
   "outputs": [
    {
     "data": {
      "image/png": "[encoded data removed]",
      "text/plain": [
       "<Figure size 864x864 with 6 Axes>"
      ]
     },
     "metadata": {
      "needs_background": "light"
     },
     "output_type": "display_data"
    }
   ],
   "source": [
    "data_user.hist(figsize=(12,12),bins=20);"
   ]
  },
  {
   "cell_type": "markdown",
   "metadata": {},
   "source": [
    "Much of the data is strongly skewed to the left so it's going to be easier to achieve clustering if we use the log of the data."
   ]
  },
  {
   "cell_type": "code",
   "execution_count": 9,
   "metadata": {},
   "outputs": [
    {
     "data": {
      "text/html": [
       "<div>\n",
       "<style scoped>\n",
       "    .dataframe tbody tr th:only-of-type {\n",
       "        vertical-align: middle;\n",
       "    }\n",
       "\n",
       "    .dataframe tbody tr th {\n",
       "        vertical-align: top;\n",
       "    }\n",
       "\n",
       "    .dataframe thead th {\n",
       "        text-align: right;\n",
       "    }\n",
       "</style>\n",
       "<table border=\"1\" class=\"dataframe\">\n",
       "  <thead>\n",
       "    <tr style=\"text-align: right;\">\n",
       "      <th></th>\n",
       "      <th>Queries</th>\n",
       "      <th>Hour</th>\n",
       "      <th>Success</th>\n",
       "      <th>Length</th>\n",
       "      <th>Rank</th>\n",
       "      <th>LogQueries</th>\n",
       "      <th>LogLength</th>\n",
       "      <th>LogRank</th>\n",
       "    </tr>\n",
       "  </thead>\n",
       "  <tbody>\n",
       "    <tr>\n",
       "      <th>28495</th>\n",
       "      <td>269</td>\n",
       "      <td>15.386617</td>\n",
       "      <td>0.505576</td>\n",
       "      <td>3.249071</td>\n",
       "      <td>3.852941</td>\n",
       "      <td>2.429752</td>\n",
       "      <td>0.511759</td>\n",
       "      <td>0.585792</td>\n",
       "    </tr>\n",
       "    <tr>\n",
       "      <th>66674</th>\n",
       "      <td>417</td>\n",
       "      <td>17.597122</td>\n",
       "      <td>0.757794</td>\n",
       "      <td>5.371703</td>\n",
       "      <td>10.750000</td>\n",
       "      <td>2.620136</td>\n",
       "      <td>0.730112</td>\n",
       "      <td>1.031408</td>\n",
       "    </tr>\n",
       "    <tr>\n",
       "      <th>88575</th>\n",
       "      <td>322</td>\n",
       "      <td>15.046584</td>\n",
       "      <td>0.583851</td>\n",
       "      <td>2.363354</td>\n",
       "      <td>2.643617</td>\n",
       "      <td>2.507856</td>\n",
       "      <td>0.373529</td>\n",
       "      <td>0.422199</td>\n",
       "    </tr>\n",
       "    <tr>\n",
       "      <th>90662</th>\n",
       "      <td>27</td>\n",
       "      <td>15.333333</td>\n",
       "      <td>0.407407</td>\n",
       "      <td>2.000000</td>\n",
       "      <td>1.181818</td>\n",
       "      <td>1.431364</td>\n",
       "      <td>0.301030</td>\n",
       "      <td>0.072551</td>\n",
       "    </tr>\n",
       "    <tr>\n",
       "      <th>110786</th>\n",
       "      <td>66</td>\n",
       "      <td>17.681818</td>\n",
       "      <td>0.757576</td>\n",
       "      <td>1.090909</td>\n",
       "      <td>1.380000</td>\n",
       "      <td>1.819544</td>\n",
       "      <td>0.037789</td>\n",
       "      <td>0.139879</td>\n",
       "    </tr>\n",
       "    <tr>\n",
       "      <th>...</th>\n",
       "      <td>...</td>\n",
       "      <td>...</td>\n",
       "      <td>...</td>\n",
       "      <td>...</td>\n",
       "      <td>...</td>\n",
       "      <td>...</td>\n",
       "      <td>...</td>\n",
       "      <td>...</td>\n",
       "    </tr>\n",
       "    <tr>\n",
       "      <th>24881102</th>\n",
       "      <td>3</td>\n",
       "      <td>18.000000</td>\n",
       "      <td>0.333333</td>\n",
       "      <td>2.000000</td>\n",
       "      <td>1.000000</td>\n",
       "      <td>0.477121</td>\n",
       "      <td>0.301030</td>\n",
       "      <td>0.000000</td>\n",
       "    </tr>\n",
       "    <tr>\n",
       "      <th>24887358</th>\n",
       "      <td>3</td>\n",
       "      <td>19.333333</td>\n",
       "      <td>0.666667</td>\n",
       "      <td>1.000000</td>\n",
       "      <td>1.000000</td>\n",
       "      <td>0.477121</td>\n",
       "      <td>0.000000</td>\n",
       "      <td>0.000000</td>\n",
       "    </tr>\n",
       "    <tr>\n",
       "      <th>24896608</th>\n",
       "      <td>19</td>\n",
       "      <td>18.052632</td>\n",
       "      <td>0.368421</td>\n",
       "      <td>1.105263</td>\n",
       "      <td>2.285714</td>\n",
       "      <td>1.278754</td>\n",
       "      <td>0.043466</td>\n",
       "      <td>0.359022</td>\n",
       "    </tr>\n",
       "    <tr>\n",
       "      <th>24903847</th>\n",
       "      <td>3</td>\n",
       "      <td>23.000000</td>\n",
       "      <td>0.666667</td>\n",
       "      <td>2.333333</td>\n",
       "      <td>1.000000</td>\n",
       "      <td>0.477121</td>\n",
       "      <td>0.367977</td>\n",
       "      <td>0.000000</td>\n",
       "    </tr>\n",
       "    <tr>\n",
       "      <th>24930733</th>\n",
       "      <td>3</td>\n",
       "      <td>9.000000</td>\n",
       "      <td>0.333333</td>\n",
       "      <td>1.333333</td>\n",
       "      <td>1.000000</td>\n",
       "      <td>0.477121</td>\n",
       "      <td>0.124939</td>\n",
       "      <td>0.000000</td>\n",
       "    </tr>\n",
       "  </tbody>\n",
       "</table>\n",
       "<p>1000 rows × 8 columns</p>\n",
       "</div>"
      ],
      "text/plain": [
       "          Queries       Hour   Success    Length       Rank  LogQueries  \\\n",
       "28495         269  15.386617  0.505576  3.249071   3.852941    2.429752   \n",
       "66674         417  17.597122  0.757794  5.371703  10.750000    2.620136   \n",
       "88575         322  15.046584  0.583851  2.363354   2.643617    2.507856   \n",
       "90662          27  15.333333  0.407407  2.000000   1.181818    1.431364   \n",
       "110786         66  17.681818  0.757576  1.090909   1.380000    1.819544   \n",
       "...           ...        ...       ...       ...        ...         ...   \n",
       "24881102        3  18.000000  0.333333  2.000000   1.000000    0.477121   \n",
       "24887358        3  19.333333  0.666667  1.000000   1.000000    0.477121   \n",
       "24896608       19  18.052632  0.368421  1.105263   2.285714    1.278754   \n",
       "24903847        3  23.000000  0.666667  2.333333   1.000000    0.477121   \n",
       "24930733        3   9.000000  0.333333  1.333333   1.000000    0.477121   \n",
       "\n",
       "          LogLength   LogRank  \n",
       "28495      0.511759  0.585792  \n",
       "66674      0.730112  1.031408  \n",
       "88575      0.373529  0.422199  \n",
       "90662      0.301030  0.072551  \n",
       "110786     0.037789  0.139879  \n",
       "...             ...       ...  \n",
       "24881102   0.301030  0.000000  \n",
       "24887358   0.000000  0.000000  \n",
       "24896608   0.043466  0.359022  \n",
       "24903847   0.367977  0.000000  \n",
       "24930733   0.124939  0.000000  \n",
       "\n",
       "[1000 rows x 8 columns]"
      ]
     },
     "execution_count": 9,
     "metadata": {},
     "output_type": "execute_result"
    }
   ],
   "source": [
    "data_user[['LogQueries','LogLength','LogRank']] = np.log10(data_user[['Queries','Length','Rank']])\n",
    "data_user"
   ]
  },
  {
   "cell_type": "code",
   "execution_count": 10,
   "metadata": {},
   "outputs": [
    {
     "data": {
      "image/png": "[encoded data removed]",
      "text/plain": [
       "<Figure size 864x864 with 9 Axes>"
      ]
     },
     "metadata": {
      "needs_background": "light"
     },
     "output_type": "display_data"
    }
   ],
   "source": [
    "data_user.hist(figsize=(12,12),bins=20);"
   ]
  },
  {
   "cell_type": "code",
   "execution_count": 11,
   "metadata": {},
   "outputs": [
    {
     "data": {
      "text/html": [
       "<div>\n",
       "<style scoped>\n",
       "    .dataframe tbody tr th:only-of-type {\n",
       "        vertical-align: middle;\n",
       "    }\n",
       "\n",
       "    .dataframe tbody tr th {\n",
       "        vertical-align: top;\n",
       "    }\n",
       "\n",
       "    .dataframe thead th {\n",
       "        text-align: right;\n",
       "    }\n",
       "</style>\n",
       "<table border=\"1\" class=\"dataframe\">\n",
       "  <thead>\n",
       "    <tr style=\"text-align: right;\">\n",
       "      <th></th>\n",
       "      <th>Hour</th>\n",
       "      <th>LogQueries</th>\n",
       "      <th>LogLength</th>\n",
       "      <th>LogRank</th>\n",
       "    </tr>\n",
       "  </thead>\n",
       "  <tbody>\n",
       "    <tr>\n",
       "      <th>28495</th>\n",
       "      <td>0.173823</td>\n",
       "      <td>1.646163</td>\n",
       "      <td>1.361009</td>\n",
       "      <td>0.451333</td>\n",
       "    </tr>\n",
       "    <tr>\n",
       "      <th>66674</th>\n",
       "      <td>0.767649</td>\n",
       "      <td>1.959213</td>\n",
       "      <td>2.630118</td>\n",
       "      <td>1.747949</td>\n",
       "    </tr>\n",
       "    <tr>\n",
       "      <th>88575</th>\n",
       "      <td>0.082477</td>\n",
       "      <td>1.774590</td>\n",
       "      <td>0.557587</td>\n",
       "      <td>-0.024678</td>\n",
       "    </tr>\n",
       "    <tr>\n",
       "      <th>90662</th>\n",
       "      <td>0.159509</td>\n",
       "      <td>0.004505</td>\n",
       "      <td>0.136210</td>\n",
       "      <td>-1.042053</td>\n",
       "    </tr>\n",
       "    <tr>\n",
       "      <th>110786</th>\n",
       "      <td>0.790401</td>\n",
       "      <td>0.642793</td>\n",
       "      <td>-1.393801</td>\n",
       "      <td>-0.846147</td>\n",
       "    </tr>\n",
       "    <tr>\n",
       "      <th>...</th>\n",
       "      <td>...</td>\n",
       "      <td>...</td>\n",
       "      <td>...</td>\n",
       "      <td>...</td>\n",
       "    </tr>\n",
       "    <tr>\n",
       "      <th>24881102</th>\n",
       "      <td>0.875877</td>\n",
       "      <td>-1.564564</td>\n",
       "      <td>0.136210</td>\n",
       "      <td>-1.253155</td>\n",
       "    </tr>\n",
       "    <tr>\n",
       "      <th>24887358</th>\n",
       "      <td>1.234061</td>\n",
       "      <td>-1.564564</td>\n",
       "      <td>-1.613435</td>\n",
       "      <td>-1.253155</td>\n",
       "    </tr>\n",
       "    <tr>\n",
       "      <th>24896608</th>\n",
       "      <td>0.890016</td>\n",
       "      <td>-0.246434</td>\n",
       "      <td>-1.360804</td>\n",
       "      <td>-0.208504</td>\n",
       "    </tr>\n",
       "    <tr>\n",
       "      <th>24903847</th>\n",
       "      <td>2.219067</td>\n",
       "      <td>-1.564564</td>\n",
       "      <td>0.525318</td>\n",
       "      <td>-1.253155</td>\n",
       "    </tr>\n",
       "    <tr>\n",
       "      <th>24930733</th>\n",
       "      <td>-1.541865</td>\n",
       "      <td>-1.564564</td>\n",
       "      <td>-0.887267</td>\n",
       "      <td>-1.253155</td>\n",
       "    </tr>\n",
       "  </tbody>\n",
       "</table>\n",
       "<p>1000 rows × 4 columns</p>\n",
       "</div>"
      ],
      "text/plain": [
       "              Hour  LogQueries  LogLength   LogRank\n",
       "28495     0.173823    1.646163   1.361009  0.451333\n",
       "66674     0.767649    1.959213   2.630118  1.747949\n",
       "88575     0.082477    1.774590   0.557587 -0.024678\n",
       "90662     0.159509    0.004505   0.136210 -1.042053\n",
       "110786    0.790401    0.642793  -1.393801 -0.846147\n",
       "...            ...         ...        ...       ...\n",
       "24881102  0.875877   -1.564564   0.136210 -1.253155\n",
       "24887358  1.234061   -1.564564  -1.613435 -1.253155\n",
       "24896608  0.890016   -0.246434  -1.360804 -0.208504\n",
       "24903847  2.219067   -1.564564   0.525318 -1.253155\n",
       "24930733 -1.541865   -1.564564  -0.887267 -1.253155\n",
       "\n",
       "[1000 rows x 4 columns]"
      ]
     },
     "execution_count": 11,
     "metadata": {},
     "output_type": "execute_result"
    }
   ],
   "source": [
    "from sklearn.preprocessing import StandardScaler\n",
    "ss = StandardScaler().fit(data_user.drop(columns=['Queries','Length','Rank','Success']))\n",
    "data_user_ss = pd.DataFrame(\n",
    "    ss.transform(data_user.drop(columns=['Queries','Length','Rank','Success'])),\n",
    "    index = data_user.index,\n",
    "    columns = data_user.drop(columns=['Queries','Length','Rank','Success']).columns\n",
    ")\n",
    "data_user_ss"
   ]
  },
  {
   "cell_type": "code",
   "execution_count": 12,
   "metadata": {},
   "outputs": [
    {
     "data": {
      "image/png": "[encoded data removed]",
      "text/plain": [
       "<Figure size 864x864 with 4 Axes>"
      ]
     },
     "metadata": {
      "needs_background": "light"
     },
     "output_type": "display_data"
    }
   ],
   "source": [
    "data_user_ss.hist(figsize=(12,12),bins=20);"
   ]
  },
  {
   "cell_type": "markdown",
   "metadata": {},
   "source": [
    "The above graph shows the standardised values for the features we want to use."
   ]
  },
  {
   "cell_type": "code",
   "execution_count": 13,
   "metadata": {},
   "outputs": [
    {
     "data": {
      "text/plain": [
       "<AxesSubplot:>"
      ]
     },
     "execution_count": 13,
     "metadata": {},
     "output_type": "execute_result"
    },
    {
     "data": {
      "image/png": "[encoded data removed]",
      "text/plain": [
       "<Figure size 432x288 with 1 Axes>"
      ]
     },
     "metadata": {
      "needs_background": "light"
     },
     "output_type": "display_data"
    }
   ],
   "source": [
    "data_user['Success'].hist()"
   ]
  },
  {
   "cell_type": "markdown",
   "metadata": {},
   "source": [
    "The above graph shows the distribution of the target metric."
   ]
  },
  {
   "cell_type": "code",
   "execution_count": 14,
   "metadata": {},
   "outputs": [
    {
     "data": {
      "text/plain": [
       "array([0.1, 0.5, 0.8])"
      ]
     },
     "execution_count": 14,
     "metadata": {},
     "output_type": "execute_result"
    }
   ],
   "source": [
    "data_user['CatSuccess'] = pd.cut(data_user['Success'], 3).map(lambda x: int(x.mid*10)/10)\n",
    "cats = np.unique(data_user['CatSuccess'])\n",
    "cats"
   ]
  },
  {
   "cell_type": "code",
   "execution_count": 15,
   "metadata": {},
   "outputs": [
    {
     "data": {
      "text/html": [
       "<div>\n",
       "<style scoped>\n",
       "    .dataframe tbody tr th:only-of-type {\n",
       "        vertical-align: middle;\n",
       "    }\n",
       "\n",
       "    .dataframe tbody tr th {\n",
       "        vertical-align: top;\n",
       "    }\n",
       "\n",
       "    .dataframe thead th {\n",
       "        text-align: right;\n",
       "    }\n",
       "</style>\n",
       "<table border=\"1\" class=\"dataframe\">\n",
       "  <thead>\n",
       "    <tr style=\"text-align: right;\">\n",
       "      <th></th>\n",
       "      <th>PC1</th>\n",
       "      <th>PC2</th>\n",
       "      <th>CatSuccess</th>\n",
       "    </tr>\n",
       "  </thead>\n",
       "  <tbody>\n",
       "    <tr>\n",
       "      <th>0</th>\n",
       "      <td>1.929799</td>\n",
       "      <td>-0.540015</td>\n",
       "      <td>0.5</td>\n",
       "    </tr>\n",
       "    <tr>\n",
       "      <th>1</th>\n",
       "      <td>3.500588</td>\n",
       "      <td>-1.204705</td>\n",
       "      <td>0.8</td>\n",
       "    </tr>\n",
       "    <tr>\n",
       "      <th>2</th>\n",
       "      <td>1.294547</td>\n",
       "      <td>-0.458275</td>\n",
       "      <td>0.5</td>\n",
       "    </tr>\n",
       "    <tr>\n",
       "      <th>3</th>\n",
       "      <td>-0.571723</td>\n",
       "      <td>-0.178190</td>\n",
       "      <td>0.5</td>\n",
       "    </tr>\n",
       "    <tr>\n",
       "      <th>4</th>\n",
       "      <td>-0.993382</td>\n",
       "      <td>-0.872122</td>\n",
       "      <td>0.8</td>\n",
       "    </tr>\n",
       "    <tr>\n",
       "      <th>...</th>\n",
       "      <td>...</td>\n",
       "      <td>...</td>\n",
       "      <td>...</td>\n",
       "    </tr>\n",
       "    <tr>\n",
       "      <th>995</th>\n",
       "      <td>-1.690393</td>\n",
       "      <td>-0.565125</td>\n",
       "      <td>0.1</td>\n",
       "    </tr>\n",
       "    <tr>\n",
       "      <th>996</th>\n",
       "      <td>-2.680542</td>\n",
       "      <td>-0.859050</td>\n",
       "      <td>0.5</td>\n",
       "    </tr>\n",
       "    <tr>\n",
       "      <th>997</th>\n",
       "      <td>-1.114605</td>\n",
       "      <td>-0.780464</td>\n",
       "      <td>0.5</td>\n",
       "    </tr>\n",
       "    <tr>\n",
       "      <th>998</th>\n",
       "      <td>-1.650410</td>\n",
       "      <td>-1.892218</td>\n",
       "      <td>0.5</td>\n",
       "    </tr>\n",
       "    <tr>\n",
       "      <th>999</th>\n",
       "      <td>-1.936822</td>\n",
       "      <td>1.834095</td>\n",
       "      <td>0.1</td>\n",
       "    </tr>\n",
       "  </tbody>\n",
       "</table>\n",
       "<p>1000 rows × 3 columns</p>\n",
       "</div>"
      ],
      "text/plain": [
       "          PC1       PC2 CatSuccess\n",
       "0    1.929799 -0.540015        0.5\n",
       "1    3.500588 -1.204705        0.8\n",
       "2    1.294547 -0.458275        0.5\n",
       "3   -0.571723 -0.178190        0.5\n",
       "4   -0.993382 -0.872122        0.8\n",
       "..        ...       ...        ...\n",
       "995 -1.690393 -0.565125        0.1\n",
       "996 -2.680542 -0.859050        0.5\n",
       "997 -1.114605 -0.780464        0.5\n",
       "998 -1.650410 -1.892218        0.5\n",
       "999 -1.936822  1.834095        0.1\n",
       "\n",
       "[1000 rows x 3 columns]"
      ]
     },
     "execution_count": 15,
     "metadata": {},
     "output_type": "execute_result"
    }
   ],
   "source": [
    "from sklearn.decomposition import PCA\n",
    "pca = PCA(n_components=2)\n",
    "pcomps = pca.fit_transform(data_user_ss)\n",
    "\n",
    "pcomps_df = pd.DataFrame(data=pcomps, columns=['PC1','PC2'])\n",
    "pcomps_df['CatSuccess'] = data_user['CatSuccess'].values\n",
    "pcomps_df"
   ]
  },
  {
   "cell_type": "code",
   "execution_count": 16,
   "metadata": {},
   "outputs": [
    {
     "data": {
      "text/plain": [
       "array([0.44485656, 0.24971732])"
      ]
     },
     "execution_count": 16,
     "metadata": {},
     "output_type": "execute_result"
    }
   ],
   "source": [
    "pca.explained_variance_ratio_"
   ]
  },
  {
   "cell_type": "code",
   "execution_count": 17,
   "metadata": {},
   "outputs": [
    {
     "data": {
      "image/png": "[encoded data removed]",
      "text/plain": [
       "<Figure size 576x576 with 1 Axes>"
      ]
     },
     "metadata": {
      "needs_background": "light"
     },
     "output_type": "display_data"
    }
   ],
   "source": [
    "colours = ['r','g','b']\n",
    "\n",
    "with plt.style.context('bmh'):\n",
    "    fig = plt.figure(figsize = (8,8))\n",
    "    ax = fig.add_subplot(111)\n",
    "    for isuccess, icolour in zip(cats,colours):\n",
    "        ax.scatter(\n",
    "            pcomps_df[pcomps_df['CatSuccess'] == isuccess]['PC1'],\n",
    "            pcomps_df[pcomps_df['CatSuccess'] == isuccess]['PC2'],\n",
    "            c = icolour,\n",
    "            s = 50,\n",
    "        )\n",
    "\n",
    "    for isuccess in cats:\n",
    "        ax.scatter(\n",
    "            pcomps_df[pcomps_df['CatSuccess'] == isuccess]['PC1'].mean(),\n",
    "            pcomps_df[pcomps_df['CatSuccess'] == isuccess]['PC2'].mean(),\n",
    "            c='cyan',\n",
    "            s=200\n",
    "        )\n",
    "\n",
    "    ax.legend(cats)\n",
    "    ax.set_xlabel('PC1')\n",
    "    ax.set_ylabel('PC2')"
   ]
  },
  {
   "cell_type": "markdown",
   "metadata": {},
   "source": [
    "The above figure shows the distribution across principles axes for those who are least successful (red), most successful (blue) and inbetween (green). The average for each group is indicated by a cyan dot. The averages are clustered together showing how these features do not lend themselves to natural clustering. It would be interesting to test if higher dimensions help, although with only a few features we have limited space for exploration here."
   ]
  },
  {
   "cell_type": "code",
   "execution_count": 18,
   "metadata": {},
   "outputs": [
    {
     "data": {
      "text/plain": [
       "array([0.44485656, 0.24971732, 0.17055541, 0.13487071])"
      ]
     },
     "execution_count": 18,
     "metadata": {},
     "output_type": "execute_result"
    }
   ],
   "source": [
    "pca = PCA(n_components=4)\n",
    "pcomps = pca.fit_transform(data_user_ss)\n",
    "pca.explained_variance_ratio_"
   ]
  },
  {
   "cell_type": "code",
   "execution_count": 19,
   "metadata": {},
   "outputs": [
    {
     "data": {
      "image/png": "[encoded data removed]",
      "text/plain": [
       "<Figure size 432x288 with 1 Axes>"
      ]
     },
     "metadata": {
      "needs_background": "light"
     },
     "output_type": "display_data"
    }
   ],
   "source": [
    "with plt.style.context('bmh'):\n",
    "    fig = plt.figure()\n",
    "    ax = fig.add_subplot(111)\n",
    "    ax.bar(np.arange(1,5),np.cumsum(pca.explained_variance_ratio_))\n",
    "    ax.set_xticks(range(5))\n",
    "    ax.set_xlabel('PCA dimensions')\n",
    "    ax.set_ylabel('Total variance explanation')"
   ]
  },
  {
   "cell_type": "markdown",
   "metadata": {},
   "source": [
    "The intention was next to perform K-Means analysis, but this is clearly of limited value in this situation."
   ]
  },
  {
   "cell_type": "code",
   "execution_count": 20,
   "metadata": {},
   "outputs": [],
   "source": [
    "pcomps_df = pd.DataFrame(data=pcomps, columns=[f'PC{i}' for i in range(1,5)])\n",
    "\n",
    "inertia_list = []\n",
    "from sklearn.cluster import KMeans\n",
    "for ik in range(1,5):\n",
    "    model_km = KMeans(n_clusters=ik)\n",
    "    model_km.fit(pcomps_df)\n",
    "    inertia_list.append(model_km.inertia_)"
   ]
  },
  {
   "cell_type": "code",
   "execution_count": 21,
   "metadata": {},
   "outputs": [
    {
     "data": {
      "image/png": "[encoded data removed]",
      "text/plain": [
       "<Figure size 432x288 with 1 Axes>"
      ]
     },
     "metadata": {
      "needs_background": "light"
     },
     "output_type": "display_data"
    }
   ],
   "source": [
    "with plt.style.context('bmh'):\n",
    "    fig = plt.figure()\n",
    "    ax = fig.add_subplot(111)\n",
    "    ax.plot(range(1,5),inertia_list,'-o')\n",
    "    ax.set_ylabel('Distance (sum)')\n",
    "    ax.set_xlabel('Number of clusters')"
   ]
  },
  {
   "cell_type": "markdown",
   "metadata": {},
   "source": [
    "There are two issues here:\n",
    "\n",
    "1. There needs to be better feature engineering. In particular, understanding the relationship between queries that result in success and queries that don't could be explored more. In particular, some better engineering around the contents of the text of the queries beyond simply their length would probably help. What text leads to success? Does the use of dictionary words or domain names help? And so on.\n",
    "2. There are a range of clustering algorithms in existance (https://scikit-learn.org/stable/modules/clustering.html). I standardised the data to be fairly well distributed so the K-Means method could be reasonable, but further feature engineering might require other algorithms to be considered."
   ]
  },
  {
   "cell_type": "code",
   "execution_count": 22,
   "metadata": {},
   "outputs": [],
   "source": [
    "pd.to_pickle(data_user, 'user.pkl')"
   ]
  }
 ],
 "metadata": {
  "interpreter": {
   "hash": "97b114920f7c8ed7c3fe4b47db6f2a99a7316ced72cc46d10d5b82bdf25c996b"
  },
  "kernelspec": {
   "display_name": "Python 3.9.6 64-bit ('venv-c1x': venv)",
   "language": "python",
   "name": "python3"
  },
  "language_info": {
   "codemirror_mode": {
    "name": "ipython",
    "version": 3
   },
   "file_extension": ".py",
   "mimetype": "text/x-python",
   "name": "python",
   "nbconvert_exporter": "python",
   "pygments_lexer": "ipython3",
   "version": "3.9.6"
  },
  "orig_nbformat": 4
 },
 "nbformat": 4,
 "nbformat_minor": 2
}
