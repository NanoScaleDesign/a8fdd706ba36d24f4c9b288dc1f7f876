{
 "cells": [
  {
   "cell_type": "code",
   "execution_count": 1,
   "metadata": {},
   "outputs": [],
   "source": [
    "import pandas as pd\n",
    "import numpy as np\n",
    "import matplotlib.pyplot as plt\n",
    "import seaborn as sns"
   ]
  },
  {
   "cell_type": "code",
   "execution_count": 2,
   "metadata": {},
   "outputs": [
    {
     "data": {
      "text/html": [
       "<div>\n",
       "<style scoped>\n",
       "    .dataframe tbody tr th:only-of-type {\n",
       "        vertical-align: middle;\n",
       "    }\n",
       "\n",
       "    .dataframe tbody tr th {\n",
       "        vertical-align: top;\n",
       "    }\n",
       "\n",
       "    .dataframe thead th {\n",
       "        text-align: right;\n",
       "    }\n",
       "</style>\n",
       "<table border=\"1\" class=\"dataframe\">\n",
       "  <thead>\n",
       "    <tr style=\"text-align: right;\">\n",
       "      <th></th>\n",
       "      <th>ID</th>\n",
       "      <th>Query</th>\n",
       "      <th>Time</th>\n",
       "      <th>Rank</th>\n",
       "      <th>URL</th>\n",
       "      <th>Domain</th>\n",
       "      <th>Hour</th>\n",
       "      <th>DidClick</th>\n",
       "    </tr>\n",
       "  </thead>\n",
       "  <tbody>\n",
       "    <tr>\n",
       "      <th>0</th>\n",
       "      <td>479</td>\n",
       "      <td>family guy</td>\n",
       "      <td>2006-03-01 16:01:20</td>\n",
       "      <td>NaN</td>\n",
       "      <td>NaN</td>\n",
       "      <td>NaN</td>\n",
       "      <td>16</td>\n",
       "      <td>False</td>\n",
       "    </tr>\n",
       "    <tr>\n",
       "      <th>1</th>\n",
       "      <td>479</td>\n",
       "      <td>also sprach zarathustra</td>\n",
       "      <td>2006-03-02 14:48:55</td>\n",
       "      <td>NaN</td>\n",
       "      <td>NaN</td>\n",
       "      <td>NaN</td>\n",
       "      <td>14</td>\n",
       "      <td>False</td>\n",
       "    </tr>\n",
       "    <tr>\n",
       "      <th>2</th>\n",
       "      <td>479</td>\n",
       "      <td>family guy movie references</td>\n",
       "      <td>2006-03-03 22:37:46</td>\n",
       "      <td>1.0</td>\n",
       "      <td>http://www.familyguyfiles.com</td>\n",
       "      <td>familyguyfiles</td>\n",
       "      <td>22</td>\n",
       "      <td>True</td>\n",
       "    </tr>\n",
       "    <tr>\n",
       "      <th>3</th>\n",
       "      <td>479</td>\n",
       "      <td>top grossing movies of all time</td>\n",
       "      <td>2006-03-03 22:42:42</td>\n",
       "      <td>1.0</td>\n",
       "      <td>http://movieweb.com</td>\n",
       "      <td>movieweb</td>\n",
       "      <td>22</td>\n",
       "      <td>True</td>\n",
       "    </tr>\n",
       "    <tr>\n",
       "      <th>4</th>\n",
       "      <td>479</td>\n",
       "      <td>top grossing movies of all time</td>\n",
       "      <td>2006-03-03 22:42:42</td>\n",
       "      <td>2.0</td>\n",
       "      <td>http://www.imdb.com</td>\n",
       "      <td>imdb</td>\n",
       "      <td>22</td>\n",
       "      <td>True</td>\n",
       "    </tr>\n",
       "    <tr>\n",
       "      <th>...</th>\n",
       "      <td>...</td>\n",
       "      <td>...</td>\n",
       "      <td>...</td>\n",
       "      <td>...</td>\n",
       "      <td>...</td>\n",
       "      <td>...</td>\n",
       "      <td>...</td>\n",
       "      <td>...</td>\n",
       "    </tr>\n",
       "    <tr>\n",
       "      <th>3614501</th>\n",
       "      <td>24969423</td>\n",
       "      <td>my space. com</td>\n",
       "      <td>2006-05-31 19:03:32</td>\n",
       "      <td>2.0</td>\n",
       "      <td>http://music.myspace.com</td>\n",
       "      <td>myspace</td>\n",
       "      <td>19</td>\n",
       "      <td>True</td>\n",
       "    </tr>\n",
       "    <tr>\n",
       "      <th>3614502</th>\n",
       "      <td>24969423</td>\n",
       "      <td>my space.com</td>\n",
       "      <td>2006-05-31 19:12:00</td>\n",
       "      <td>NaN</td>\n",
       "      <td>NaN</td>\n",
       "      <td>NaN</td>\n",
       "      <td>19</td>\n",
       "      <td>False</td>\n",
       "    </tr>\n",
       "    <tr>\n",
       "      <th>3614503</th>\n",
       "      <td>24969423</td>\n",
       "      <td>my space.com 3131560415</td>\n",
       "      <td>2006-05-31 19:12:25</td>\n",
       "      <td>NaN</td>\n",
       "      <td>NaN</td>\n",
       "      <td>NaN</td>\n",
       "      <td>19</td>\n",
       "      <td>False</td>\n",
       "    </tr>\n",
       "    <tr>\n",
       "      <th>3614504</th>\n",
       "      <td>24969423</td>\n",
       "      <td>jennifer craford my space.com</td>\n",
       "      <td>2006-05-31 19:15:02</td>\n",
       "      <td>NaN</td>\n",
       "      <td>NaN</td>\n",
       "      <td>NaN</td>\n",
       "      <td>19</td>\n",
       "      <td>False</td>\n",
       "    </tr>\n",
       "    <tr>\n",
       "      <th>3614505</th>\n",
       "      <td>24969423</td>\n",
       "      <td>jennifer crawford my space.com</td>\n",
       "      <td>2006-05-31 19:16:05</td>\n",
       "      <td>NaN</td>\n",
       "      <td>NaN</td>\n",
       "      <td>NaN</td>\n",
       "      <td>19</td>\n",
       "      <td>False</td>\n",
       "    </tr>\n",
       "  </tbody>\n",
       "</table>\n",
       "<p>3614500 rows × 8 columns</p>\n",
       "</div>"
      ],
      "text/plain": [
       "               ID                            Query                Time  Rank  \\\n",
       "0             479                       family guy 2006-03-01 16:01:20   NaN   \n",
       "1             479          also sprach zarathustra 2006-03-02 14:48:55   NaN   \n",
       "2             479      family guy movie references 2006-03-03 22:37:46   1.0   \n",
       "3             479  top grossing movies of all time 2006-03-03 22:42:42   1.0   \n",
       "4             479  top grossing movies of all time 2006-03-03 22:42:42   2.0   \n",
       "...           ...                              ...                 ...   ...   \n",
       "3614501  24969423                    my space. com 2006-05-31 19:03:32   2.0   \n",
       "3614502  24969423                     my space.com 2006-05-31 19:12:00   NaN   \n",
       "3614503  24969423          my space.com 3131560415 2006-05-31 19:12:25   NaN   \n",
       "3614504  24969423    jennifer craford my space.com 2006-05-31 19:15:02   NaN   \n",
       "3614505  24969423   jennifer crawford my space.com 2006-05-31 19:16:05   NaN   \n",
       "\n",
       "                                   URL          Domain  Hour  DidClick  \n",
       "0                                  NaN             NaN    16     False  \n",
       "1                                  NaN             NaN    14     False  \n",
       "2        http://www.familyguyfiles.com  familyguyfiles    22      True  \n",
       "3                  http://movieweb.com        movieweb    22      True  \n",
       "4                  http://www.imdb.com            imdb    22      True  \n",
       "...                                ...             ...   ...       ...  \n",
       "3614501       http://music.myspace.com         myspace    19      True  \n",
       "3614502                            NaN             NaN    19     False  \n",
       "3614503                            NaN             NaN    19     False  \n",
       "3614504                            NaN             NaN    19     False  \n",
       "3614505                            NaN             NaN    19     False  \n",
       "\n",
       "[3614500 rows x 8 columns]"
      ]
     },
     "execution_count": 2,
     "metadata": {},
     "output_type": "execute_result"
    }
   ],
   "source": [
    "data = pd.read_pickle('data.pkl')\n",
    "data"
   ]
  },
  {
   "cell_type": "code",
   "execution_count": 3,
   "metadata": {},
   "outputs": [
    {
     "data": {
      "text/html": [
       "<div>\n",
       "<style scoped>\n",
       "    .dataframe tbody tr th:only-of-type {\n",
       "        vertical-align: middle;\n",
       "    }\n",
       "\n",
       "    .dataframe tbody tr th {\n",
       "        vertical-align: top;\n",
       "    }\n",
       "\n",
       "    .dataframe thead th {\n",
       "        text-align: right;\n",
       "    }\n",
       "</style>\n",
       "<table border=\"1\" class=\"dataframe\">\n",
       "  <thead>\n",
       "    <tr style=\"text-align: right;\">\n",
       "      <th></th>\n",
       "      <th>Queries</th>\n",
       "      <th>Hour</th>\n",
       "      <th>Success</th>\n",
       "      <th>Length</th>\n",
       "      <th>Rank</th>\n",
       "      <th>LogQueries</th>\n",
       "      <th>LogLength</th>\n",
       "      <th>LogRank</th>\n",
       "      <th>CatSuccess</th>\n",
       "    </tr>\n",
       "  </thead>\n",
       "  <tbody>\n",
       "    <tr>\n",
       "      <th>28495</th>\n",
       "      <td>269</td>\n",
       "      <td>15.386617</td>\n",
       "      <td>0.505576</td>\n",
       "      <td>3.249071</td>\n",
       "      <td>3.852941</td>\n",
       "      <td>2.429752</td>\n",
       "      <td>0.511759</td>\n",
       "      <td>0.585792</td>\n",
       "      <td>0.5</td>\n",
       "    </tr>\n",
       "    <tr>\n",
       "      <th>66674</th>\n",
       "      <td>417</td>\n",
       "      <td>17.597122</td>\n",
       "      <td>0.757794</td>\n",
       "      <td>5.371703</td>\n",
       "      <td>10.750000</td>\n",
       "      <td>2.620136</td>\n",
       "      <td>0.730112</td>\n",
       "      <td>1.031408</td>\n",
       "      <td>0.8</td>\n",
       "    </tr>\n",
       "    <tr>\n",
       "      <th>88575</th>\n",
       "      <td>322</td>\n",
       "      <td>15.046584</td>\n",
       "      <td>0.583851</td>\n",
       "      <td>2.363354</td>\n",
       "      <td>2.643617</td>\n",
       "      <td>2.507856</td>\n",
       "      <td>0.373529</td>\n",
       "      <td>0.422199</td>\n",
       "      <td>0.5</td>\n",
       "    </tr>\n",
       "    <tr>\n",
       "      <th>90662</th>\n",
       "      <td>27</td>\n",
       "      <td>15.333333</td>\n",
       "      <td>0.407407</td>\n",
       "      <td>2.000000</td>\n",
       "      <td>1.181818</td>\n",
       "      <td>1.431364</td>\n",
       "      <td>0.301030</td>\n",
       "      <td>0.072551</td>\n",
       "      <td>0.5</td>\n",
       "    </tr>\n",
       "    <tr>\n",
       "      <th>110786</th>\n",
       "      <td>66</td>\n",
       "      <td>17.681818</td>\n",
       "      <td>0.757576</td>\n",
       "      <td>1.090909</td>\n",
       "      <td>1.380000</td>\n",
       "      <td>1.819544</td>\n",
       "      <td>0.037789</td>\n",
       "      <td>0.139879</td>\n",
       "      <td>0.8</td>\n",
       "    </tr>\n",
       "    <tr>\n",
       "      <th>...</th>\n",
       "      <td>...</td>\n",
       "      <td>...</td>\n",
       "      <td>...</td>\n",
       "      <td>...</td>\n",
       "      <td>...</td>\n",
       "      <td>...</td>\n",
       "      <td>...</td>\n",
       "      <td>...</td>\n",
       "      <td>...</td>\n",
       "    </tr>\n",
       "    <tr>\n",
       "      <th>24881102</th>\n",
       "      <td>3</td>\n",
       "      <td>18.000000</td>\n",
       "      <td>0.333333</td>\n",
       "      <td>2.000000</td>\n",
       "      <td>1.000000</td>\n",
       "      <td>0.477121</td>\n",
       "      <td>0.301030</td>\n",
       "      <td>0.000000</td>\n",
       "      <td>0.1</td>\n",
       "    </tr>\n",
       "    <tr>\n",
       "      <th>24887358</th>\n",
       "      <td>3</td>\n",
       "      <td>19.333333</td>\n",
       "      <td>0.666667</td>\n",
       "      <td>1.000000</td>\n",
       "      <td>1.000000</td>\n",
       "      <td>0.477121</td>\n",
       "      <td>0.000000</td>\n",
       "      <td>0.000000</td>\n",
       "      <td>0.5</td>\n",
       "    </tr>\n",
       "    <tr>\n",
       "      <th>24896608</th>\n",
       "      <td>19</td>\n",
       "      <td>18.052632</td>\n",
       "      <td>0.368421</td>\n",
       "      <td>1.105263</td>\n",
       "      <td>2.285714</td>\n",
       "      <td>1.278754</td>\n",
       "      <td>0.043466</td>\n",
       "      <td>0.359022</td>\n",
       "      <td>0.5</td>\n",
       "    </tr>\n",
       "    <tr>\n",
       "      <th>24903847</th>\n",
       "      <td>3</td>\n",
       "      <td>23.000000</td>\n",
       "      <td>0.666667</td>\n",
       "      <td>2.333333</td>\n",
       "      <td>1.000000</td>\n",
       "      <td>0.477121</td>\n",
       "      <td>0.367977</td>\n",
       "      <td>0.000000</td>\n",
       "      <td>0.5</td>\n",
       "    </tr>\n",
       "    <tr>\n",
       "      <th>24930733</th>\n",
       "      <td>3</td>\n",
       "      <td>9.000000</td>\n",
       "      <td>0.333333</td>\n",
       "      <td>1.333333</td>\n",
       "      <td>1.000000</td>\n",
       "      <td>0.477121</td>\n",
       "      <td>0.124939</td>\n",
       "      <td>0.000000</td>\n",
       "      <td>0.1</td>\n",
       "    </tr>\n",
       "  </tbody>\n",
       "</table>\n",
       "<p>1000 rows × 9 columns</p>\n",
       "</div>"
      ],
      "text/plain": [
       "          Queries       Hour   Success    Length       Rank  LogQueries  \\\n",
       "28495         269  15.386617  0.505576  3.249071   3.852941    2.429752   \n",
       "66674         417  17.597122  0.757794  5.371703  10.750000    2.620136   \n",
       "88575         322  15.046584  0.583851  2.363354   2.643617    2.507856   \n",
       "90662          27  15.333333  0.407407  2.000000   1.181818    1.431364   \n",
       "110786         66  17.681818  0.757576  1.090909   1.380000    1.819544   \n",
       "...           ...        ...       ...       ...        ...         ...   \n",
       "24881102        3  18.000000  0.333333  2.000000   1.000000    0.477121   \n",
       "24887358        3  19.333333  0.666667  1.000000   1.000000    0.477121   \n",
       "24896608       19  18.052632  0.368421  1.105263   2.285714    1.278754   \n",
       "24903847        3  23.000000  0.666667  2.333333   1.000000    0.477121   \n",
       "24930733        3   9.000000  0.333333  1.333333   1.000000    0.477121   \n",
       "\n",
       "          LogLength   LogRank CatSuccess  \n",
       "28495      0.511759  0.585792        0.5  \n",
       "66674      0.730112  1.031408        0.8  \n",
       "88575      0.373529  0.422199        0.5  \n",
       "90662      0.301030  0.072551        0.5  \n",
       "110786     0.037789  0.139879        0.8  \n",
       "...             ...       ...        ...  \n",
       "24881102   0.301030  0.000000        0.1  \n",
       "24887358   0.000000  0.000000        0.5  \n",
       "24896608   0.043466  0.359022        0.5  \n",
       "24903847   0.367977  0.000000        0.5  \n",
       "24930733   0.124939  0.000000        0.1  \n",
       "\n",
       "[1000 rows x 9 columns]"
      ]
     },
     "execution_count": 3,
     "metadata": {},
     "output_type": "execute_result"
    }
   ],
   "source": [
    "user = pd.read_pickle('user.pkl')\n",
    "user"
   ]
  },
  {
   "cell_type": "markdown",
   "metadata": {},
   "source": [
    "**a) Given a user’s activity, predict the likelihood of the user clicking on a search result.**"
   ]
  },
  {
   "cell_type": "markdown",
   "metadata": {},
   "source": [
    "Use a subsample of the data to build the model. Again, focus on users who clicked on something at least once since this simplifies the analysis.\n",
    "\n",
    "Furthermore, considering there is a time-element to the data and that we might want to use this to predict the future, ideally we want to separate training and validation sets by time. Due to limited time I'm just going to split based on the order the data is in, and then if I have time I'll come back and split more on time.\n",
    "\n",
    "If I'm lucky there'll be a natural splitting of the data based on time already. Let's check that."
   ]
  },
  {
   "cell_type": "code",
   "execution_count": 4,
   "metadata": {},
   "outputs": [
    {
     "data": {
      "image/png": "[encoded data removed]",
      "text/plain": [
       "<Figure size 432x288 with 1 Axes>"
      ]
     },
     "metadata": {
      "needs_background": "light"
     },
     "output_type": "display_data"
    }
   ],
   "source": [
    "ax = pd.Series(\n",
    "    (pd.to_numeric((data['Time'] - data['Time'].min()))/1e9/60/60/24).values,\n",
    "    index=range(len(data))\n",
    ").plot(style='.',alpha=0.1)\n",
    "\n",
    "ax.set_xlabel('Row number in data')\n",
    "ax.set_ylabel('Days since start of data');"
   ]
  },
  {
   "cell_type": "markdown",
   "metadata": {},
   "source": [
    "If there was natural splitting in time in the data we'd expect to get more of a line with a positive gradient. In the figure above however, the data is distributed between 0 and 90 from the beginining, so I can conclude that there is no natural organisation by time in the data. So I would need to do any time-based splitting myself."
   ]
  },
  {
   "cell_type": "markdown",
   "metadata": {},
   "source": [
    "Next, do some feature engineering and split into train and test sets."
   ]
  },
  {
   "cell_type": "code",
   "execution_count": 5,
   "metadata": {},
   "outputs": [],
   "source": [
    "data['DidClick'] = data['DidClick'].replace({False: 0, True: 1})"
   ]
  },
  {
   "cell_type": "code",
   "execution_count": 6,
   "metadata": {},
   "outputs": [
    {
     "name": "stdout",
     "output_type": "stream",
     "text": [
      "52330\n"
     ]
    }
   ],
   "source": [
    "userids = np.unique(data[pd.notnull(data['URL'])]['ID'])\n",
    "print(len(userids))\n",
    "n_train = 1000\n",
    "n_valid = 1000\n",
    "userids_train = userids[:n_train]\n",
    "userids_valid = userids[n_train:n_train+n_valid]"
   ]
  },
  {
   "cell_type": "markdown",
   "metadata": {},
   "source": [
    "While I'm developing a model it's helpful to keep the numbers small, so I limit it to 1000 users for both training and validation sets. This should be large enough to be representative. As before, I will forego statistical checks about this due to considerations for time."
   ]
  },
  {
   "cell_type": "code",
   "execution_count": 7,
   "metadata": {},
   "outputs": [],
   "source": [
    "data_train = data.set_index('ID').loc[userids_train]\n",
    "data_valid = data.set_index('ID').loc[userids_valid]"
   ]
  },
  {
   "cell_type": "code",
   "execution_count": 8,
   "metadata": {},
   "outputs": [],
   "source": [
    "from datetime import timedelta as td\n",
    "deltas = []\n",
    "for id in userids_train:\n",
    "    data_user = data[data['ID'] == id]\n",
    "    dt = data_user['Time'].iloc[1:].reset_index(drop=True) - data_user['Time'].iloc[:-1].reset_index(drop=True)\n",
    "    deltas = deltas + [td(1,0,0)*7] + list(dt)\n",
    "data_train['Delta'] = deltas\n",
    "data_train['Delta'] = pd.to_numeric(data_train['Delta']/1e9)\n",
    "data_train['LogDelta'] = np.log10(data_train['Delta'] + 1)\n",
    "\n",
    "deltas = []\n",
    "for id in userids_valid:\n",
    "    data_user = data[data['ID'] == id]\n",
    "    dt = data_user['Time'].iloc[1:].reset_index(drop=True) - data_user['Time'].iloc[:-1].reset_index(drop=True)\n",
    "    deltas = deltas + [td(1,0,0)*7] + list(dt)\n",
    "data_valid['Delta'] = deltas\n",
    "data_valid['Delta'] = pd.to_numeric(data_valid['Delta']/1e9)\n",
    "data_valid['LogDelta'] = np.log10(data_valid['Delta'] + 1)\n",
    "\n",
    "# Todo: Refactor this to be more succinct"
   ]
  },
  {
   "cell_type": "markdown",
   "metadata": {},
   "source": [
    "If we want to consider the history of the user as an indicator of whether they will be successful in their search, the simplest metric would be to see if they have searched in the past. Eventually we might want to narrow this down to whether they searched for a similar term before, but for now we just see how long ago they made a query."
   ]
  },
  {
   "cell_type": "code",
   "execution_count": 9,
   "metadata": {},
   "outputs": [
    {
     "data": {
      "text/html": [
       "<div>\n",
       "<style scoped>\n",
       "    .dataframe tbody tr th:only-of-type {\n",
       "        vertical-align: middle;\n",
       "    }\n",
       "\n",
       "    .dataframe tbody tr th {\n",
       "        vertical-align: top;\n",
       "    }\n",
       "\n",
       "    .dataframe thead th {\n",
       "        text-align: right;\n",
       "    }\n",
       "</style>\n",
       "<table border=\"1\" class=\"dataframe\">\n",
       "  <thead>\n",
       "    <tr style=\"text-align: right;\">\n",
       "      <th></th>\n",
       "      <th>Query</th>\n",
       "      <th>Time</th>\n",
       "      <th>Rank</th>\n",
       "      <th>URL</th>\n",
       "      <th>Domain</th>\n",
       "      <th>Hour</th>\n",
       "      <th>DidClick</th>\n",
       "      <th>Delta</th>\n",
       "      <th>LogDelta</th>\n",
       "    </tr>\n",
       "    <tr>\n",
       "      <th>ID</th>\n",
       "      <th></th>\n",
       "      <th></th>\n",
       "      <th></th>\n",
       "      <th></th>\n",
       "      <th></th>\n",
       "      <th></th>\n",
       "      <th></th>\n",
       "      <th></th>\n",
       "      <th></th>\n",
       "    </tr>\n",
       "  </thead>\n",
       "  <tbody>\n",
       "    <tr>\n",
       "      <th>479</th>\n",
       "      <td>family guy</td>\n",
       "      <td>2006-03-01 16:01:20</td>\n",
       "      <td>NaN</td>\n",
       "      <td>NaN</td>\n",
       "      <td>NaN</td>\n",
       "      <td>16</td>\n",
       "      <td>0</td>\n",
       "      <td>604800</td>\n",
       "      <td>5.781613</td>\n",
       "    </tr>\n",
       "    <tr>\n",
       "      <th>479</th>\n",
       "      <td>also sprach zarathustra</td>\n",
       "      <td>2006-03-02 14:48:55</td>\n",
       "      <td>NaN</td>\n",
       "      <td>NaN</td>\n",
       "      <td>NaN</td>\n",
       "      <td>14</td>\n",
       "      <td>0</td>\n",
       "      <td>82055</td>\n",
       "      <td>4.914110</td>\n",
       "    </tr>\n",
       "    <tr>\n",
       "      <th>479</th>\n",
       "      <td>family guy movie references</td>\n",
       "      <td>2006-03-03 22:37:46</td>\n",
       "      <td>1.0</td>\n",
       "      <td>http://www.familyguyfiles.com</td>\n",
       "      <td>familyguyfiles</td>\n",
       "      <td>22</td>\n",
       "      <td>1</td>\n",
       "      <td>114531</td>\n",
       "      <td>5.058927</td>\n",
       "    </tr>\n",
       "    <tr>\n",
       "      <th>479</th>\n",
       "      <td>top grossing movies of all time</td>\n",
       "      <td>2006-03-03 22:42:42</td>\n",
       "      <td>1.0</td>\n",
       "      <td>http://movieweb.com</td>\n",
       "      <td>movieweb</td>\n",
       "      <td>22</td>\n",
       "      <td>1</td>\n",
       "      <td>296</td>\n",
       "      <td>2.472756</td>\n",
       "    </tr>\n",
       "    <tr>\n",
       "      <th>479</th>\n",
       "      <td>top grossing movies of all time</td>\n",
       "      <td>2006-03-03 22:42:42</td>\n",
       "      <td>2.0</td>\n",
       "      <td>http://www.imdb.com</td>\n",
       "      <td>imdb</td>\n",
       "      <td>22</td>\n",
       "      <td>1</td>\n",
       "      <td>0</td>\n",
       "      <td>0.000000</td>\n",
       "    </tr>\n",
       "    <tr>\n",
       "      <th>...</th>\n",
       "      <td>...</td>\n",
       "      <td>...</td>\n",
       "      <td>...</td>\n",
       "      <td>...</td>\n",
       "      <td>...</td>\n",
       "      <td>...</td>\n",
       "      <td>...</td>\n",
       "      <td>...</td>\n",
       "      <td>...</td>\n",
       "    </tr>\n",
       "    <tr>\n",
       "      <th>401432</th>\n",
       "      <td>sears.com</td>\n",
       "      <td>2006-05-24 16:26:36</td>\n",
       "      <td>NaN</td>\n",
       "      <td>NaN</td>\n",
       "      <td>NaN</td>\n",
       "      <td>16</td>\n",
       "      <td>0</td>\n",
       "      <td>168033</td>\n",
       "      <td>5.225397</td>\n",
       "    </tr>\n",
       "    <tr>\n",
       "      <th>401432</th>\n",
       "      <td>sars.com</td>\n",
       "      <td>2006-05-24 16:37:28</td>\n",
       "      <td>NaN</td>\n",
       "      <td>NaN</td>\n",
       "      <td>NaN</td>\n",
       "      <td>16</td>\n",
       "      <td>0</td>\n",
       "      <td>652</td>\n",
       "      <td>2.814913</td>\n",
       "    </tr>\n",
       "    <tr>\n",
       "      <th>401432</th>\n",
       "      <td>sears.com</td>\n",
       "      <td>2006-05-24 16:37:41</td>\n",
       "      <td>NaN</td>\n",
       "      <td>NaN</td>\n",
       "      <td>NaN</td>\n",
       "      <td>16</td>\n",
       "      <td>0</td>\n",
       "      <td>13</td>\n",
       "      <td>1.146128</td>\n",
       "    </tr>\n",
       "    <tr>\n",
       "      <th>401432</th>\n",
       "      <td>sears.com</td>\n",
       "      <td>2006-05-31 09:54:07</td>\n",
       "      <td>NaN</td>\n",
       "      <td>NaN</td>\n",
       "      <td>NaN</td>\n",
       "      <td>9</td>\n",
       "      <td>0</td>\n",
       "      <td>580586</td>\n",
       "      <td>5.763867</td>\n",
       "    </tr>\n",
       "    <tr>\n",
       "      <th>401432</th>\n",
       "      <td>qvc.com</td>\n",
       "      <td>2006-05-31 10:16:33</td>\n",
       "      <td>1.0</td>\n",
       "      <td>http://www.qvc.com</td>\n",
       "      <td>qvc</td>\n",
       "      <td>10</td>\n",
       "      <td>1</td>\n",
       "      <td>1346</td>\n",
       "      <td>3.129368</td>\n",
       "    </tr>\n",
       "  </tbody>\n",
       "</table>\n",
       "<p>169955 rows × 9 columns</p>\n",
       "</div>"
      ],
      "text/plain": [
       "                                  Query                Time  Rank  \\\n",
       "ID                                                                  \n",
       "479                          family guy 2006-03-01 16:01:20   NaN   \n",
       "479             also sprach zarathustra 2006-03-02 14:48:55   NaN   \n",
       "479         family guy movie references 2006-03-03 22:37:46   1.0   \n",
       "479     top grossing movies of all time 2006-03-03 22:42:42   1.0   \n",
       "479     top grossing movies of all time 2006-03-03 22:42:42   2.0   \n",
       "...                                 ...                 ...   ...   \n",
       "401432                        sears.com 2006-05-24 16:26:36   NaN   \n",
       "401432                         sars.com 2006-05-24 16:37:28   NaN   \n",
       "401432                        sears.com 2006-05-24 16:37:41   NaN   \n",
       "401432                        sears.com 2006-05-31 09:54:07   NaN   \n",
       "401432                          qvc.com 2006-05-31 10:16:33   1.0   \n",
       "\n",
       "                                  URL          Domain  Hour  DidClick   Delta  \\\n",
       "ID                                                                              \n",
       "479                               NaN             NaN    16         0  604800   \n",
       "479                               NaN             NaN    14         0   82055   \n",
       "479     http://www.familyguyfiles.com  familyguyfiles    22         1  114531   \n",
       "479               http://movieweb.com        movieweb    22         1     296   \n",
       "479               http://www.imdb.com            imdb    22         1       0   \n",
       "...                               ...             ...   ...       ...     ...   \n",
       "401432                            NaN             NaN    16         0  168033   \n",
       "401432                            NaN             NaN    16         0     652   \n",
       "401432                            NaN             NaN    16         0      13   \n",
       "401432                            NaN             NaN     9         0  580586   \n",
       "401432             http://www.qvc.com             qvc    10         1    1346   \n",
       "\n",
       "        LogDelta  \n",
       "ID                \n",
       "479     5.781613  \n",
       "479     4.914110  \n",
       "479     5.058927  \n",
       "479     2.472756  \n",
       "479     0.000000  \n",
       "...          ...  \n",
       "401432  5.225397  \n",
       "401432  2.814913  \n",
       "401432  1.146128  \n",
       "401432  5.763867  \n",
       "401432  3.129368  \n",
       "\n",
       "[169955 rows x 9 columns]"
      ]
     },
     "execution_count": 9,
     "metadata": {},
     "output_type": "execute_result"
    }
   ],
   "source": [
    "data_train"
   ]
  },
  {
   "cell_type": "code",
   "execution_count": 10,
   "metadata": {},
   "outputs": [
    {
     "data": {
      "text/plain": [
       "<AxesSubplot:xlabel='DidClick', ylabel='LogDelta'>"
      ]
     },
     "execution_count": 10,
     "metadata": {},
     "output_type": "execute_result"
    },
    {
     "data": {
      "image/png": "[encoded data removed]",
      "text/plain": [
       "<Figure size 432x288 with 1 Axes>"
      ]
     },
     "metadata": {
      "needs_background": "light"
     },
     "output_type": "display_data"
    }
   ],
   "source": [
    "sns.boxplot(x='DidClick', y='LogDelta', data=data_train)"
   ]
  },
  {
   "cell_type": "markdown",
   "metadata": {},
   "source": [
    "Users who clicked on a result generally made a previous search more recently than those who did not. This suggests that recent user search activity is indicitive of future successful searches."
   ]
  },
  {
   "cell_type": "markdown",
   "metadata": {},
   "source": [
    "First we need to set up a basic benchmark. If we had absolutely no information, what is the probability that a user clicks on a query?\n",
    "\n",
    "This can be modelled as a Bernoulli distribution. This is somewhat overkill for a simple question, but I was curious about the tightness of the distribution."
   ]
  },
  {
   "cell_type": "code",
   "execution_count": 11,
   "metadata": {},
   "outputs": [
    {
     "name": "stderr",
     "output_type": "stream",
     "text": [
      "/var/folders/33/177sh4qs67bf8wzmdtqvp6sm0000gn/T/ipykernel_27732/2858842842.py:6: FutureWarning: In v4.0, pm.sample will return an `arviz.InferenceData` object instead of a `MultiTrace` by default. You can pass return_inferencedata=True or return_inferencedata=False to be safe and silence this warning.\n",
      "  trace = pm.sample(2000)\n",
      "Auto-assigning NUTS sampler...\n",
      "Initializing NUTS using jitter+adapt_diag...\n",
      "Multiprocess sampling (4 chains in 4 jobs)\n",
      "NUTS: [theta]\n"
     ]
    },
    {
     "data": {
      "text/html": [
       "\n",
       "    <div>\n",
       "        <style>\n",
       "            /* Turns off some styling */\n",
       "            progress {\n",
       "                /* gets rid of default border in Firefox and Opera. */\n",
       "                border: none;\n",
       "                /* Needs to be in here for Safari polyfill so background images work as expected. */\n",
       "                background-size: auto;\n",
       "            }\n",
       "            .progress-bar-interrupted, .progress-bar-interrupted::-webkit-progress-bar {\n",
       "                background: #F44336;\n",
       "            }\n",
       "        </style>\n",
       "      <progress value='12000' class='' max='12000' style='width:300px; height:20px; vertical-align: middle;'></progress>\n",
       "      100.00% [12000/12000 00:02<00:00 Sampling 4 chains, 0 divergences]\n",
       "    </div>\n",
       "    "
      ],
      "text/plain": [
       "<IPython.core.display.HTML object>"
      ]
     },
     "metadata": {},
     "output_type": "display_data"
    },
    {
     "name": "stderr",
     "output_type": "stream",
     "text": [
      "Sampling 4 chains for 1_000 tune and 2_000 draw iterations (4_000 + 8_000 draws total) took 12 seconds.\n",
      "The acceptance probability does not match the target. It is 0.8882228020675448, but should be close to 0.8. Try to increase the number of tuning steps.\n"
     ]
    }
   ],
   "source": [
    "import pymc3 as pm\n",
    "\n",
    "with pm.Model() as model:\n",
    "    theta = pm.Beta('theta', alpha=1, beta=1)\n",
    "    click = pm.Bernoulli('click', p=theta, observed=data_train['DidClick'][:10000])\n",
    "    trace = pm.sample(2000)"
   ]
  },
  {
   "cell_type": "code",
   "execution_count": 12,
   "metadata": {},
   "outputs": [
    {
     "name": "stderr",
     "output_type": "stream",
     "text": [
      "Got error No model on context stack. trying to find log_likelihood in translation.\n",
      "/Users/james/Documents/Job_applications/2021/C1X/venv-c1x/lib/python3.9/site-packages/arviz/data/io_pymc3_3x.py:98: FutureWarning: Using `from_pymc3` without the model will be deprecated in a future release. Not using the model will return less accurate and less useful results. Make sure you use the model argument or call from_pymc3 within a model context.\n",
      "  warnings.warn(\n",
      "Got error No model on context stack. trying to find log_likelihood in translation.\n"
     ]
    },
    {
     "data": {
      "text/plain": [
       "array([[<AxesSubplot:title={'center':'theta'}>,\n",
       "        <AxesSubplot:title={'center':'theta'}>]], dtype=object)"
      ]
     },
     "execution_count": 12,
     "metadata": {},
     "output_type": "execute_result"
    },
    {
     "data": {
      "image/png": "[encoded data removed]",
      "text/plain": [
       "<Figure size 864x144 with 2 Axes>"
      ]
     },
     "metadata": {
      "needs_background": "light"
     },
     "output_type": "display_data"
    }
   ],
   "source": [
    "import arviz as az\n",
    "az.plot_trace(trace)"
   ]
  },
  {
   "cell_type": "markdown",
   "metadata": {},
   "source": [
    "Theta is very tightly defined around 0.6, suggesting a user is slightly more likely to click when making a query, than not.\n",
    "\n",
    "Any model that we make needs to beat this benchmark; ie, we need to be correct more than 60% of the time."
   ]
  },
  {
   "cell_type": "markdown",
   "metadata": {},
   "source": [
    "The point estimate from the full training data gives a similar suggested benchmark."
   ]
  },
  {
   "cell_type": "code",
   "execution_count": 13,
   "metadata": {},
   "outputs": [
    {
     "data": {
      "text/plain": [
       "0.5889961718685948"
      ]
     },
     "execution_count": 13,
     "metadata": {},
     "output_type": "execute_result"
    }
   ],
   "source": [
    "len(data_valid[data_valid['DidClick'] == 1]) / len(data_valid)"
   ]
  },
  {
   "cell_type": "code",
   "execution_count": 14,
   "metadata": {},
   "outputs": [
    {
     "data": {
      "text/html": [
       "<div>\n",
       "<style scoped>\n",
       "    .dataframe tbody tr th:only-of-type {\n",
       "        vertical-align: middle;\n",
       "    }\n",
       "\n",
       "    .dataframe tbody tr th {\n",
       "        vertical-align: top;\n",
       "    }\n",
       "\n",
       "    .dataframe thead th {\n",
       "        text-align: right;\n",
       "    }\n",
       "</style>\n",
       "<table border=\"1\" class=\"dataframe\">\n",
       "  <thead>\n",
       "    <tr style=\"text-align: right;\">\n",
       "      <th></th>\n",
       "      <th>LogDelta</th>\n",
       "      <th>Hour</th>\n",
       "      <th>DidClick</th>\n",
       "    </tr>\n",
       "    <tr>\n",
       "      <th>ID</th>\n",
       "      <th></th>\n",
       "      <th></th>\n",
       "      <th></th>\n",
       "    </tr>\n",
       "  </thead>\n",
       "  <tbody>\n",
       "    <tr>\n",
       "      <th>479</th>\n",
       "      <td>5.781613</td>\n",
       "      <td>16</td>\n",
       "      <td>0</td>\n",
       "    </tr>\n",
       "    <tr>\n",
       "      <th>479</th>\n",
       "      <td>4.914110</td>\n",
       "      <td>14</td>\n",
       "      <td>0</td>\n",
       "    </tr>\n",
       "    <tr>\n",
       "      <th>479</th>\n",
       "      <td>5.058927</td>\n",
       "      <td>22</td>\n",
       "      <td>1</td>\n",
       "    </tr>\n",
       "    <tr>\n",
       "      <th>479</th>\n",
       "      <td>2.472756</td>\n",
       "      <td>22</td>\n",
       "      <td>1</td>\n",
       "    </tr>\n",
       "    <tr>\n",
       "      <th>479</th>\n",
       "      <td>0.000000</td>\n",
       "      <td>22</td>\n",
       "      <td>1</td>\n",
       "    </tr>\n",
       "    <tr>\n",
       "      <th>...</th>\n",
       "      <td>...</td>\n",
       "      <td>...</td>\n",
       "      <td>...</td>\n",
       "    </tr>\n",
       "    <tr>\n",
       "      <th>401432</th>\n",
       "      <td>5.225397</td>\n",
       "      <td>16</td>\n",
       "      <td>0</td>\n",
       "    </tr>\n",
       "    <tr>\n",
       "      <th>401432</th>\n",
       "      <td>2.814913</td>\n",
       "      <td>16</td>\n",
       "      <td>0</td>\n",
       "    </tr>\n",
       "    <tr>\n",
       "      <th>401432</th>\n",
       "      <td>1.146128</td>\n",
       "      <td>16</td>\n",
       "      <td>0</td>\n",
       "    </tr>\n",
       "    <tr>\n",
       "      <th>401432</th>\n",
       "      <td>5.763867</td>\n",
       "      <td>9</td>\n",
       "      <td>0</td>\n",
       "    </tr>\n",
       "    <tr>\n",
       "      <th>401432</th>\n",
       "      <td>3.129368</td>\n",
       "      <td>10</td>\n",
       "      <td>1</td>\n",
       "    </tr>\n",
       "  </tbody>\n",
       "</table>\n",
       "<p>169955 rows × 3 columns</p>\n",
       "</div>"
      ],
      "text/plain": [
       "        LogDelta  Hour  DidClick\n",
       "ID                              \n",
       "479     5.781613    16         0\n",
       "479     4.914110    14         0\n",
       "479     5.058927    22         1\n",
       "479     2.472756    22         1\n",
       "479     0.000000    22         1\n",
       "...          ...   ...       ...\n",
       "401432  5.225397    16         0\n",
       "401432  2.814913    16         0\n",
       "401432  1.146128    16         0\n",
       "401432  5.763867     9         0\n",
       "401432  3.129368    10         1\n",
       "\n",
       "[169955 rows x 3 columns]"
      ]
     },
     "execution_count": 14,
     "metadata": {},
     "output_type": "execute_result"
    }
   ],
   "source": [
    "data_train[['LogDelta','Hour','DidClick']]"
   ]
  },
  {
   "cell_type": "code",
   "execution_count": 15,
   "metadata": {},
   "outputs": [],
   "source": [
    "cols = ['LogDelta','Hour']\n",
    "\n",
    "from sklearn.preprocessing import StandardScaler\n",
    "ss = StandardScaler().fit(data_train[cols])\n",
    "data_train_ss = pd.DataFrame(\n",
    "    ss.transform(data_train[cols]),\n",
    "    index = data_train[cols].index,\n",
    "    columns = data_train[cols].columns,\n",
    ")\n",
    "data_train_ss = data_train[cols]"
   ]
  },
  {
   "cell_type": "code",
   "execution_count": 16,
   "metadata": {},
   "outputs": [],
   "source": [
    "from sklearn import tree\n",
    "clf = tree.DecisionTreeClassifier(max_depth=2)\n",
    "clf = clf.fit(data_train_ss.values, data_train['DidClick'].values)"
   ]
  },
  {
   "cell_type": "code",
   "execution_count": 17,
   "metadata": {},
   "outputs": [
    {
     "data": {
      "text/plain": [
       "[Text(0.5, 0.8333333333333334, 'X[0] <= 0.151\\ngini = 0.485\\nsamples = 169955\\nvalue = [70337, 99618]'),\n",
       " Text(0.25, 0.5, 'X[1] <= 8.5\\ngini = 0.03\\nsamples = 38319\\nvalue = [574, 37745]'),\n",
       " Text(0.125, 0.16666666666666666, 'gini = 0.039\\nsamples = 6918\\nvalue = [136, 6782]'),\n",
       " Text(0.375, 0.16666666666666666, 'gini = 0.028\\nsamples = 31401\\nvalue = [438, 30963]'),\n",
       " Text(0.75, 0.5, 'X[0] <= 1.866\\ngini = 0.498\\nsamples = 131636\\nvalue = [69763, 61873]'),\n",
       " Text(0.625, 0.16666666666666666, 'gini = 0.458\\nsamples = 40797\\nvalue = [26338, 14459]'),\n",
       " Text(0.875, 0.16666666666666666, 'gini = 0.499\\nsamples = 90839\\nvalue = [43425, 47414]')]"
      ]
     },
     "execution_count": 17,
     "metadata": {},
     "output_type": "execute_result"
    },
    {
     "data": {
      "image/png": "[encoded data removed]",
      "text/plain": [
       "<Figure size 1152x864 with 1 Axes>"
      ]
     },
     "metadata": {
      "needs_background": "light"
     },
     "output_type": "display_data"
    }
   ],
   "source": [
    "fig, ax = plt.subplots(figsize=(16,12))\n",
    "tree.plot_tree(clf, fontsize=12, ax=ax)"
   ]
  },
  {
   "cell_type": "code",
   "execution_count": 18,
   "metadata": {},
   "outputs": [
    {
     "data": {
      "text/html": [
       "<div>\n",
       "<style scoped>\n",
       "    .dataframe tbody tr th:only-of-type {\n",
       "        vertical-align: middle;\n",
       "    }\n",
       "\n",
       "    .dataframe tbody tr th {\n",
       "        vertical-align: top;\n",
       "    }\n",
       "\n",
       "    .dataframe thead th {\n",
       "        text-align: right;\n",
       "    }\n",
       "</style>\n",
       "<table border=\"1\" class=\"dataframe\">\n",
       "  <thead>\n",
       "    <tr style=\"text-align: right;\">\n",
       "      <th></th>\n",
       "      <th>LogDelta</th>\n",
       "      <th>Hour</th>\n",
       "    </tr>\n",
       "    <tr>\n",
       "      <th>ID</th>\n",
       "      <th></th>\n",
       "      <th></th>\n",
       "    </tr>\n",
       "  </thead>\n",
       "  <tbody>\n",
       "    <tr>\n",
       "      <th>401487</th>\n",
       "      <td>5.781613</td>\n",
       "      <td>21</td>\n",
       "    </tr>\n",
       "    <tr>\n",
       "      <th>401487</th>\n",
       "      <td>4.888309</td>\n",
       "      <td>18</td>\n",
       "    </tr>\n",
       "    <tr>\n",
       "      <th>401487</th>\n",
       "      <td>2.260071</td>\n",
       "      <td>18</td>\n",
       "    </tr>\n",
       "    <tr>\n",
       "      <th>401487</th>\n",
       "      <td>2.071882</td>\n",
       "      <td>18</td>\n",
       "    </tr>\n",
       "    <tr>\n",
       "      <th>401487</th>\n",
       "      <td>0.000000</td>\n",
       "      <td>18</td>\n",
       "    </tr>\n",
       "    <tr>\n",
       "      <th>...</th>\n",
       "      <td>...</td>\n",
       "      <td>...</td>\n",
       "    </tr>\n",
       "    <tr>\n",
       "      <th>813808</th>\n",
       "      <td>1.740363</td>\n",
       "      <td>11</td>\n",
       "    </tr>\n",
       "    <tr>\n",
       "      <th>813808</th>\n",
       "      <td>3.430075</td>\n",
       "      <td>12</td>\n",
       "    </tr>\n",
       "    <tr>\n",
       "      <th>813808</th>\n",
       "      <td>1.518514</td>\n",
       "      <td>12</td>\n",
       "    </tr>\n",
       "    <tr>\n",
       "      <th>813808</th>\n",
       "      <td>3.749350</td>\n",
       "      <td>14</td>\n",
       "    </tr>\n",
       "    <tr>\n",
       "      <th>813808</th>\n",
       "      <td>5.277701</td>\n",
       "      <td>18</td>\n",
       "    </tr>\n",
       "  </tbody>\n",
       "</table>\n",
       "<p>158563 rows × 2 columns</p>\n",
       "</div>"
      ],
      "text/plain": [
       "        LogDelta  Hour\n",
       "ID                    \n",
       "401487  5.781613    21\n",
       "401487  4.888309    18\n",
       "401487  2.260071    18\n",
       "401487  2.071882    18\n",
       "401487  0.000000    18\n",
       "...          ...   ...\n",
       "813808  1.740363    11\n",
       "813808  3.430075    12\n",
       "813808  1.518514    12\n",
       "813808  3.749350    14\n",
       "813808  5.277701    18\n",
       "\n",
       "[158563 rows x 2 columns]"
      ]
     },
     "execution_count": 18,
     "metadata": {},
     "output_type": "execute_result"
    }
   ],
   "source": [
    "data_valid[cols]"
   ]
  },
  {
   "cell_type": "code",
   "execution_count": 19,
   "metadata": {},
   "outputs": [
    {
     "name": "stderr",
     "output_type": "stream",
     "text": [
      "/Users/james/Documents/Job_applications/2021/C1X/venv-c1x/lib/python3.9/site-packages/sklearn/base.py:443: UserWarning: X has feature names, but DecisionTreeClassifier was fitted without feature names\n",
      "  warnings.warn(\n"
     ]
    },
    {
     "data": {
      "text/plain": [
       "array([1, 1, 1, ..., 0, 1, 1])"
      ]
     },
     "execution_count": 19,
     "metadata": {},
     "output_type": "execute_result"
    }
   ],
   "source": [
    "_ = clf.predict(data_valid[cols])\n",
    "_"
   ]
  },
  {
   "cell_type": "code",
   "execution_count": 20,
   "metadata": {},
   "outputs": [
    {
     "data": {
      "text/html": [
       "<div>\n",
       "<style scoped>\n",
       "    .dataframe tbody tr th:only-of-type {\n",
       "        vertical-align: middle;\n",
       "    }\n",
       "\n",
       "    .dataframe tbody tr th {\n",
       "        vertical-align: top;\n",
       "    }\n",
       "\n",
       "    .dataframe thead th {\n",
       "        text-align: right;\n",
       "    }\n",
       "</style>\n",
       "<table border=\"1\" class=\"dataframe\">\n",
       "  <thead>\n",
       "    <tr style=\"text-align: right;\">\n",
       "      <th></th>\n",
       "      <th>Actual</th>\n",
       "      <th>Predicted</th>\n",
       "    </tr>\n",
       "    <tr>\n",
       "      <th>ID</th>\n",
       "      <th></th>\n",
       "      <th></th>\n",
       "    </tr>\n",
       "  </thead>\n",
       "  <tbody>\n",
       "    <tr>\n",
       "      <th>401487</th>\n",
       "      <td>0</td>\n",
       "      <td>1</td>\n",
       "    </tr>\n",
       "    <tr>\n",
       "      <th>401487</th>\n",
       "      <td>0</td>\n",
       "      <td>1</td>\n",
       "    </tr>\n",
       "    <tr>\n",
       "      <th>401487</th>\n",
       "      <td>0</td>\n",
       "      <td>1</td>\n",
       "    </tr>\n",
       "    <tr>\n",
       "      <th>401487</th>\n",
       "      <td>1</td>\n",
       "      <td>1</td>\n",
       "    </tr>\n",
       "    <tr>\n",
       "      <th>401487</th>\n",
       "      <td>1</td>\n",
       "      <td>1</td>\n",
       "    </tr>\n",
       "    <tr>\n",
       "      <th>...</th>\n",
       "      <td>...</td>\n",
       "      <td>...</td>\n",
       "    </tr>\n",
       "    <tr>\n",
       "      <th>813808</th>\n",
       "      <td>0</td>\n",
       "      <td>0</td>\n",
       "    </tr>\n",
       "    <tr>\n",
       "      <th>813808</th>\n",
       "      <td>0</td>\n",
       "      <td>1</td>\n",
       "    </tr>\n",
       "    <tr>\n",
       "      <th>813808</th>\n",
       "      <td>1</td>\n",
       "      <td>0</td>\n",
       "    </tr>\n",
       "    <tr>\n",
       "      <th>813808</th>\n",
       "      <td>1</td>\n",
       "      <td>1</td>\n",
       "    </tr>\n",
       "    <tr>\n",
       "      <th>813808</th>\n",
       "      <td>0</td>\n",
       "      <td>1</td>\n",
       "    </tr>\n",
       "  </tbody>\n",
       "</table>\n",
       "<p>158563 rows × 2 columns</p>\n",
       "</div>"
      ],
      "text/plain": [
       "        Actual  Predicted\n",
       "ID                       \n",
       "401487       0          1\n",
       "401487       0          1\n",
       "401487       0          1\n",
       "401487       1          1\n",
       "401487       1          1\n",
       "...        ...        ...\n",
       "813808       0          0\n",
       "813808       0          1\n",
       "813808       1          0\n",
       "813808       1          1\n",
       "813808       0          1\n",
       "\n",
       "[158563 rows x 2 columns]"
      ]
     },
     "execution_count": 20,
     "metadata": {},
     "output_type": "execute_result"
    }
   ],
   "source": [
    "prediction = data_valid[['DidClick']].copy()\n",
    "prediction = prediction.rename(columns={'DidClick': 'Actual'})\n",
    "prediction['Predicted'] = _\n",
    "prediction"
   ]
  },
  {
   "cell_type": "code",
   "execution_count": 21,
   "metadata": {},
   "outputs": [
    {
     "name": "stdout",
     "output_type": "stream",
     "text": [
      "[[0.15742008 0.25358375]\n",
      " [0.08507029 0.50392588]]\n",
      "0.6613459634340924\n"
     ]
    }
   ],
   "source": [
    "from sklearn.metrics import confusion_matrix as cm\n",
    "pred = cm(prediction['Actual'], prediction['Predicted'])/len(prediction)\n",
    "print(pred)\n",
    "print(pred[0][0] + pred[1][1])"
   ]
  },
  {
   "cell_type": "markdown",
   "metadata": {},
   "source": [
    "This simple model improves on the naive model by around 6%.\n",
    "\n",
    "The model seems to largely be predicting clicks, so most clicks are well predicted, but no-clicks are poorly predicted. Try modifying the depth hyperparameter to see if this can be improved."
   ]
  },
  {
   "cell_type": "code",
   "execution_count": 22,
   "metadata": {},
   "outputs": [],
   "source": [
    "from sklearn import tree\n",
    "\n",
    "logout = []\n",
    "for maxdepth in range(1,15):\n",
    "    clf = tree.DecisionTreeClassifier(max_depth=maxdepth)\n",
    "    clf = clf.fit(data_train_ss.values, data_train['DidClick'].values)\n",
    "    cmat = cm(\n",
    "        data_valid['DidClick'],\n",
    "        clf.predict(data_valid[cols].values)\n",
    "        )/len(prediction)\n",
    "    logout.append([maxdepth, cmat[0][0], cmat[1][1]])\n",
    "\n",
    "logout = pd.DataFrame(logout,columns=['Depth',0,1])\n",
    "logout = logout.set_index('Depth')\n",
    "logout['Accuracy'] = logout[0] + logout[1]"
   ]
  },
  {
   "cell_type": "code",
   "execution_count": 23,
   "metadata": {},
   "outputs": [
    {
     "data": {
      "text/plain": [
       "<AxesSubplot:xlabel='Depth'>"
      ]
     },
     "execution_count": 23,
     "metadata": {},
     "output_type": "execute_result"
    },
    {
     "data": {
      "image/png": "[encoded data removed]",
      "text/plain": [
       "<Figure size 432x288 with 1 Axes>"
      ]
     },
     "metadata": {
      "needs_background": "light"
     },
     "output_type": "display_data"
    }
   ],
   "source": [
    "logout.plot()"
   ]
  },
  {
   "cell_type": "code",
   "execution_count": 24,
   "metadata": {},
   "outputs": [
    {
     "data": {
      "text/html": [
       "<div>\n",
       "<style scoped>\n",
       "    .dataframe tbody tr th:only-of-type {\n",
       "        vertical-align: middle;\n",
       "    }\n",
       "\n",
       "    .dataframe tbody tr th {\n",
       "        vertical-align: top;\n",
       "    }\n",
       "\n",
       "    .dataframe thead th {\n",
       "        text-align: right;\n",
       "    }\n",
       "</style>\n",
       "<table border=\"1\" class=\"dataframe\">\n",
       "  <thead>\n",
       "    <tr style=\"text-align: right;\">\n",
       "      <th></th>\n",
       "      <th>0</th>\n",
       "      <th>1</th>\n",
       "      <th>Accuracy</th>\n",
       "    </tr>\n",
       "    <tr>\n",
       "      <th>Depth</th>\n",
       "      <th></th>\n",
       "      <th></th>\n",
       "      <th></th>\n",
       "    </tr>\n",
       "  </thead>\n",
       "  <tbody>\n",
       "    <tr>\n",
       "      <th>1</th>\n",
       "      <td>0.407327</td>\n",
       "      <td>0.223104</td>\n",
       "      <td>0.630431</td>\n",
       "    </tr>\n",
       "    <tr>\n",
       "      <th>2</th>\n",
       "      <td>0.157420</td>\n",
       "      <td>0.503926</td>\n",
       "      <td>0.661346</td>\n",
       "    </tr>\n",
       "    <tr>\n",
       "      <th>3</th>\n",
       "      <td>0.178200</td>\n",
       "      <td>0.487037</td>\n",
       "      <td>0.665237</td>\n",
       "    </tr>\n",
       "    <tr>\n",
       "      <th>4</th>\n",
       "      <td>0.207066</td>\n",
       "      <td>0.460158</td>\n",
       "      <td>0.667224</td>\n",
       "    </tr>\n",
       "    <tr>\n",
       "      <th>5</th>\n",
       "      <td>0.236253</td>\n",
       "      <td>0.430655</td>\n",
       "      <td>0.666908</td>\n",
       "    </tr>\n",
       "    <tr>\n",
       "      <th>6</th>\n",
       "      <td>0.235742</td>\n",
       "      <td>0.431273</td>\n",
       "      <td>0.667016</td>\n",
       "    </tr>\n",
       "    <tr>\n",
       "      <th>7</th>\n",
       "      <td>0.232488</td>\n",
       "      <td>0.434799</td>\n",
       "      <td>0.667287</td>\n",
       "    </tr>\n",
       "    <tr>\n",
       "      <th>8</th>\n",
       "      <td>0.233175</td>\n",
       "      <td>0.432850</td>\n",
       "      <td>0.666025</td>\n",
       "    </tr>\n",
       "    <tr>\n",
       "      <th>9</th>\n",
       "      <td>0.217030</td>\n",
       "      <td>0.449102</td>\n",
       "      <td>0.666133</td>\n",
       "    </tr>\n",
       "    <tr>\n",
       "      <th>10</th>\n",
       "      <td>0.205660</td>\n",
       "      <td>0.460719</td>\n",
       "      <td>0.666379</td>\n",
       "    </tr>\n",
       "    <tr>\n",
       "      <th>11</th>\n",
       "      <td>0.217819</td>\n",
       "      <td>0.445716</td>\n",
       "      <td>0.663534</td>\n",
       "    </tr>\n",
       "    <tr>\n",
       "      <th>12</th>\n",
       "      <td>0.205275</td>\n",
       "      <td>0.458726</td>\n",
       "      <td>0.664001</td>\n",
       "    </tr>\n",
       "    <tr>\n",
       "      <th>13</th>\n",
       "      <td>0.207779</td>\n",
       "      <td>0.455138</td>\n",
       "      <td>0.662916</td>\n",
       "    </tr>\n",
       "    <tr>\n",
       "      <th>14</th>\n",
       "      <td>0.208794</td>\n",
       "      <td>0.452817</td>\n",
       "      <td>0.661611</td>\n",
       "    </tr>\n",
       "  </tbody>\n",
       "</table>\n",
       "</div>"
      ],
      "text/plain": [
       "              0         1  Accuracy\n",
       "Depth                              \n",
       "1      0.407327  0.223104  0.630431\n",
       "2      0.157420  0.503926  0.661346\n",
       "3      0.178200  0.487037  0.665237\n",
       "4      0.207066  0.460158  0.667224\n",
       "5      0.236253  0.430655  0.666908\n",
       "6      0.235742  0.431273  0.667016\n",
       "7      0.232488  0.434799  0.667287\n",
       "8      0.233175  0.432850  0.666025\n",
       "9      0.217030  0.449102  0.666133\n",
       "10     0.205660  0.460719  0.666379\n",
       "11     0.217819  0.445716  0.663534\n",
       "12     0.205275  0.458726  0.664001\n",
       "13     0.207779  0.455138  0.662916\n",
       "14     0.208794  0.452817  0.661611"
      ]
     },
     "execution_count": 24,
     "metadata": {},
     "output_type": "execute_result"
    }
   ],
   "source": [
    "logout"
   ]
  },
  {
   "cell_type": "markdown",
   "metadata": {},
   "source": [
    "There is no improvement beyond 6% with more than 2 splits. This is likely due to the limited number of dimensions."
   ]
  },
  {
   "cell_type": "markdown",
   "metadata": {},
   "source": [
    "So the model had a positive contribution to improving the prediction of whether a user would like on a result based on their past interaction with the site.\n",
    "\n",
    "There are two ways that the current approach could be improved upon to yield a better increase in predictive ability.\n",
    "\n",
    "1. I engineered a single feature. With more time it would be better to engineer more features. In particular, I have not considered the nature of the text, and so it would be good to incorporate some text processing (full words? Searched the same query in the past?).\n",
    "2. The decision tree is a simple model. I chose this model because I have so few features a complicated model would be unlikely to do much better and I always try to start simply (occam's razor). It would be interesting to experiment with more complex models after progressing further with (1)."
   ]
  }
 ],
 "metadata": {
  "interpreter": {
   "hash": "97b114920f7c8ed7c3fe4b47db6f2a99a7316ced72cc46d10d5b82bdf25c996b"
  },
  "kernelspec": {
   "display_name": "Python 3.9.6 64-bit ('venv-c1x': venv)",
   "language": "python",
   "name": "python3"
  },
  "language_info": {
   "codemirror_mode": {
    "name": "ipython",
    "version": 3
   },
   "file_extension": ".py",
   "mimetype": "text/x-python",
   "name": "python",
   "nbconvert_exporter": "python",
   "pygments_lexer": "ipython3",
   "version": "3.9.6"
  },
  "orig_nbformat": 4
 },
 "nbformat": 4,
 "nbformat_minor": 2
}
